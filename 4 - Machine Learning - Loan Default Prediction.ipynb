{
 "cells": [
  {
   "cell_type": "code",
   "execution_count": 1,
   "metadata": {},
   "outputs": [],
   "source": [
    "import numpy as np\n",
    "import pandas as pd\n",
    "import matplotlib.pyplot as plt\n",
    "import seaborn as sns\n",
    "from sklearn.linear_model import LogisticRegression\n",
    "from sklearn.model_selection import train_test_split"
   ]
  },
  {
   "cell_type": "code",
   "execution_count": 2,
   "metadata": {},
   "outputs": [],
   "source": [
    "loan_df = pd.read_csv('C:\\\\Users\\Daniel-Panovest\\\\Downloads\\\\python ultra\\\\files\\\\data\\\\vehicle_loans_feat.csv', index_col='UNIQUEID')"
   ]
  },
  {
   "cell_type": "code",
   "execution_count": 3,
   "metadata": {},
   "outputs": [
    {
     "name": "stdout",
     "output_type": "stream",
     "text": [
      "<class 'pandas.core.frame.DataFrame'>\n",
      "Int64Index: 233154 entries, 420825 to 630213\n",
      "Data columns (total 33 columns):\n",
      " #   Column                               Non-Null Count   Dtype  \n",
      "---  ------                               --------------   -----  \n",
      " 0   DISBURSED_AMOUNT                     233154 non-null  float64\n",
      " 1   ASSET_COST                           233154 non-null  float64\n",
      " 2   LTV                                  233154 non-null  float64\n",
      " 3   MANUFACTURER_ID                      233154 non-null  int64  \n",
      " 4   EMPLOYMENT_TYPE                      233154 non-null  object \n",
      " 5   STATE_ID                             233154 non-null  int64  \n",
      " 6   AADHAR_FLAG                          233154 non-null  int64  \n",
      " 7   PAN_FLAG                             233154 non-null  int64  \n",
      " 8   VOTERID_FLAG                         233154 non-null  int64  \n",
      " 9   DRIVING_FLAG                         233154 non-null  int64  \n",
      " 10  PASSPORT_FLAG                        233154 non-null  int64  \n",
      " 11  PERFORM_CNS_SCORE                    233154 non-null  float64\n",
      " 12  PERFORM_CNS_SCORE_DESCRIPTION        233154 non-null  object \n",
      " 13  NEW_ACCTS_IN_LAST_SIX_MONTHS         233154 non-null  float64\n",
      " 14  DELINQUENT_ACCTS_IN_LAST_SIX_MONTHS  233154 non-null  float64\n",
      " 15  AVERAGE_ACCT_AGE                     233154 non-null  object \n",
      " 16  CREDIT_HISTORY_LENGTH                233154 non-null  object \n",
      " 17  NO_OF_INQUIRIES                      233154 non-null  float64\n",
      " 18  LOAN_DEFAULT                         233154 non-null  int64  \n",
      " 19  AGE                                  233154 non-null  float64\n",
      " 20  DISBURSAL_MONTH                      233154 non-null  int64  \n",
      " 21  CREDIT_HISTORY_LENGTH_MONTHS         233154 non-null  float64\n",
      " 22  AVERAGE_ACCT_AGE_MONTHS              233154 non-null  float64\n",
      " 23  DISBURSED_CAT                        233154 non-null  object \n",
      " 24  DISBURSAL_DIFF                       233154 non-null  float64\n",
      " 25  TOTAL_ACCTS                          233154 non-null  float64\n",
      " 26  TOTAL_ACTIVE_ACCTS                   233154 non-null  float64\n",
      " 27  TOTAL_OVERDUE_ACCTS                  233154 non-null  float64\n",
      " 28  TOTAL_CURRENT_BALANCE                233154 non-null  float64\n",
      " 29  TOTAL_SANCTIONED_AMOUNT              233154 non-null  float64\n",
      " 30  TOTAL_DISBURSED_AMOUNT               233154 non-null  float64\n",
      " 31  TOTAL_INSTAL_AMT                     233154 non-null  float64\n",
      " 32  OVERDUE_PCT                          233154 non-null  float64\n",
      "dtypes: float64(19), int64(9), object(5)\n",
      "memory usage: 56.0+ MB\n"
     ]
    }
   ],
   "source": [
    "#viewing loan dataframe info to check progress overtime\n",
    "loan_df.info()"
   ]
  },
  {
   "cell_type": "code",
   "execution_count": 4,
   "metadata": {},
   "outputs": [
    {
     "data": {
      "text/plain": [
       "MANUFACTURER_ID                  category\n",
       "STATE_ID                         category\n",
       "DISBURSAL_MONTH                  category\n",
       "DISBURSED_CAT                    category\n",
       "PERFORM_CNS_SCORE_DESCRIPTION    category\n",
       "EMPLOYMENT_TYPE                  category\n",
       "dtype: object"
      ]
     },
     "execution_count": 4,
     "metadata": {},
     "output_type": "execute_result"
    }
   ],
   "source": [
    "#casting categorical variable columns as type \"category\" using astype method, to ensure our classfier identifies all relevant categorical data\n",
    "cat_cols = ['MANUFACTURER_ID', 'STATE_ID', 'DISBURSAL_MONTH', 'DISBURSED_CAT', 'PERFORM_CNS_SCORE_DESCRIPTION', 'EMPLOYMENT_TYPE']\n",
    "loan_df[cat_cols] = loan_df[cat_cols].astype('category')\n",
    "loan_df[cat_cols].dtypes"
   ]
  },
  {
   "cell_type": "code",
   "execution_count": 5,
   "metadata": {},
   "outputs": [
    {
     "name": "stdout",
     "output_type": "stream",
     "text": [
      "<class 'pandas.core.frame.DataFrame'>\n",
      "Int64Index: 233154 entries, 420825 to 630213\n",
      "Data columns (total 40 columns):\n",
      " #   Column                  Non-Null Count   Dtype  \n",
      "---  ------                  --------------   -----  \n",
      " 0   LTV                     233154 non-null  float64\n",
      " 1   PERFORM_CNS_SCORE       233154 non-null  float64\n",
      " 2   LOAN_DEFAULT            233154 non-null  int64  \n",
      " 3   STATE_ID_2              233154 non-null  uint8  \n",
      " 4   STATE_ID_3              233154 non-null  uint8  \n",
      " 5   STATE_ID_4              233154 non-null  uint8  \n",
      " 6   STATE_ID_5              233154 non-null  uint8  \n",
      " 7   STATE_ID_6              233154 non-null  uint8  \n",
      " 8   STATE_ID_7              233154 non-null  uint8  \n",
      " 9   STATE_ID_8              233154 non-null  uint8  \n",
      " 10  STATE_ID_9              233154 non-null  uint8  \n",
      " 11  STATE_ID_10             233154 non-null  uint8  \n",
      " 12  STATE_ID_11             233154 non-null  uint8  \n",
      " 13  STATE_ID_12             233154 non-null  uint8  \n",
      " 14  STATE_ID_13             233154 non-null  uint8  \n",
      " 15  STATE_ID_14             233154 non-null  uint8  \n",
      " 16  STATE_ID_15             233154 non-null  uint8  \n",
      " 17  STATE_ID_16             233154 non-null  uint8  \n",
      " 18  STATE_ID_17             233154 non-null  uint8  \n",
      " 19  STATE_ID_18             233154 non-null  uint8  \n",
      " 20  STATE_ID_19             233154 non-null  uint8  \n",
      " 21  STATE_ID_20             233154 non-null  uint8  \n",
      " 22  STATE_ID_21             233154 non-null  uint8  \n",
      " 23  STATE_ID_22             233154 non-null  uint8  \n",
      " 24  DISBURSED_CAT_150k-1m   233154 non-null  uint8  \n",
      " 25  DISBURSED_CAT_30k-45k   233154 non-null  uint8  \n",
      " 26  DISBURSED_CAT_45k-60k   233154 non-null  uint8  \n",
      " 27  DISBURSED_CAT_60k-75k   233154 non-null  uint8  \n",
      " 28  DISBURSED_CAT_75k-150k  233154 non-null  uint8  \n",
      " 29  DISBURSAL_MONTH_2       233154 non-null  uint8  \n",
      " 30  DISBURSAL_MONTH_3       233154 non-null  uint8  \n",
      " 31  DISBURSAL_MONTH_4       233154 non-null  uint8  \n",
      " 32  DISBURSAL_MONTH_5       233154 non-null  uint8  \n",
      " 33  DISBURSAL_MONTH_6       233154 non-null  uint8  \n",
      " 34  DISBURSAL_MONTH_7       233154 non-null  uint8  \n",
      " 35  DISBURSAL_MONTH_8       233154 non-null  uint8  \n",
      " 36  DISBURSAL_MONTH_9       233154 non-null  uint8  \n",
      " 37  DISBURSAL_MONTH_10      233154 non-null  uint8  \n",
      " 38  DISBURSAL_MONTH_11      233154 non-null  uint8  \n",
      " 39  DISBURSAL_MONTH_12      233154 non-null  uint8  \n",
      "dtypes: float64(2), int64(1), uint8(37)\n",
      "memory usage: 15.3 MB\n"
     ]
    }
   ],
   "source": [
    "#creating a subset of data from the loan df to simplify the predictive model to be used\n",
    "cols = ['STATE_ID', 'LTV', 'DISBURSED_CAT', 'PERFORM_CNS_SCORE', 'DISBURSAL_MONTH', 'LOAN_DEFAULT']\n",
    "\n",
    "#converting catgeorical variables into dummy variables using pd.get_dummies to simplify the model and reduce the impact of correlated variables\n",
    "loan_df_subset = pd.get_dummies(loan_df[cols], prefix_sep='_', drop_first=True)\n",
    "loan_df_subset.info()"
   ]
  },
  {
   "cell_type": "code",
   "execution_count": 6,
   "metadata": {},
   "outputs": [],
   "source": [
    "#splitting data into train and test to fit the model to our spectific data and testing it afterwards\n",
    "x = loan_df_subset.drop(['LOAN_DEFAULT'], axis=1)\n",
    "y = loan_df_subset['LOAN_DEFAULT']\n",
    "\n",
    "#creating binary classifier - logistic regression object\n",
    "log_res = LogisticRegression()\n",
    "x_train, x_test, y_train, y_test = train_test_split(x, y, test_size=0.2, random_state=42)"
   ]
  },
  {
   "cell_type": "code",
   "execution_count": 7,
   "metadata": {},
   "outputs": [
    {
     "name": "stdout",
     "output_type": "stream",
     "text": [
      "0    0.783099\n",
      "1    0.216901\n",
      "Name: LOAN_DEFAULT, dtype: float64\n",
      "\n",
      "\n",
      "0    0.782248\n",
      "1    0.217752\n",
      "Name: LOAN_DEFAULT, dtype: float64\n"
     ]
    }
   ],
   "source": [
    "#using normalize to check the distribution of loan default values across the target train and test samples \n",
    "print(y_train.value_counts(normalize=True))\n",
    "print('\\n')\n",
    "print(y_test.value_counts(normalize=True))"
   ]
  },
  {
   "cell_type": "code",
   "execution_count": 8,
   "metadata": {},
   "outputs": [
    {
     "name": "stderr",
     "output_type": "stream",
     "text": [
      "c:\\Users\\Daniel-Panovest\\anaconda3\\lib\\site-packages\\sklearn\\linear_model\\_logistic.py:814: ConvergenceWarning: lbfgs failed to converge (status=1):\n",
      "STOP: TOTAL NO. of ITERATIONS REACHED LIMIT.\n",
      "\n",
      "Increase the number of iterations (max_iter) or scale the data as shown in:\n",
      "    https://scikit-learn.org/stable/modules/preprocessing.html\n",
      "Please also refer to the documentation for alternative solver options:\n",
      "    https://scikit-learn.org/stable/modules/linear_model.html#logistic-regression\n",
      "  n_iter_i = _check_optimize_result(\n"
     ]
    },
    {
     "data": {
      "text/plain": [
       "LogisticRegression()"
      ]
     },
     "execution_count": 8,
     "metadata": {},
     "output_type": "execute_result"
    }
   ],
   "source": [
    "#fitting the binary classifier model with training data\n",
    "log_res.fit(x_train, y_train)"
   ]
  },
  {
   "cell_type": "code",
   "execution_count": 9,
   "metadata": {},
   "outputs": [
    {
     "data": {
      "text/plain": [
       "LogisticRegression(max_iter=200)"
      ]
     },
     "execution_count": 9,
     "metadata": {},
     "output_type": "execute_result"
    }
   ],
   "source": [
    "#increasing number of max iterations to complete the fitting due to convergence error\n",
    "log_res = LogisticRegression(max_iter=200)\n",
    "log_res.fit(x_train, y_train)"
   ]
  },
  {
   "cell_type": "code",
   "execution_count": 10,
   "metadata": {},
   "outputs": [
    {
     "name": "stdout",
     "output_type": "stream",
     "text": [
      "the binary classifier model predicted 78.229075% loan default cases correctly\n"
     ]
    }
   ],
   "source": [
    "#using score to predict and compare the predicted class against with the actual class\n",
    "print(f'the binary classifier model predicted {log_res.score(x_test, y_test):0%} loan default cases correctly')"
   ]
  }
 ],
 "metadata": {
  "kernelspec": {
   "display_name": "base",
   "language": "python",
   "name": "python3"
  },
  "language_info": {
   "codemirror_mode": {
    "name": "ipython",
    "version": 3
   },
   "file_extension": ".py",
   "mimetype": "text/x-python",
   "name": "python",
   "nbconvert_exporter": "python",
   "pygments_lexer": "ipython3",
   "version": "3.9.12"
  },
  "orig_nbformat": 4
 },
 "nbformat": 4,
 "nbformat_minor": 2
}
