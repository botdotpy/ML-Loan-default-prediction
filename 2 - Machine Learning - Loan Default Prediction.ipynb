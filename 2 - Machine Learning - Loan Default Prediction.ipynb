{
 "cells": [
  {
   "cell_type": "code",
   "execution_count": 23,
   "metadata": {},
   "outputs": [],
   "source": [
    "#import libraries\n",
    "import numpy as np\n",
    "import pandas as pd\n",
    "import matplotlib.pyplot as plt\n",
    "import seaborn as sns\n",
    "%matplotlib inline"
   ]
  },
  {
   "cell_type": "code",
   "execution_count": 24,
   "metadata": {},
   "outputs": [],
   "source": [
    "loan_df = pd.read_csv(\"C:\\\\Users\\\\Daniel-Panovest\\\\Downloads\\\\python ultra\\\\files\\\\data\\\\vehicle_loans_clean.csv\", index_col=\"UNIQUEID\")"
   ]
  },
  {
   "cell_type": "code",
   "execution_count": 25,
   "metadata": {},
   "outputs": [
    {
     "name": "stdout",
     "output_type": "stream",
     "text": [
      "<class 'pandas.core.frame.DataFrame'>\n",
      "Int64Index: 233154 entries, 420825 to 630213\n",
      "Data columns (total 42 columns):\n",
      " #   Column                               Non-Null Count   Dtype  \n",
      "---  ------                               --------------   -----  \n",
      " 0   DISBURSED_AMOUNT                     233154 non-null  int64  \n",
      " 1   ASSET_COST                           233154 non-null  int64  \n",
      " 2   LTV                                  233154 non-null  float64\n",
      " 3   BRANCH_ID                            233154 non-null  int64  \n",
      " 4   SUPPLIER_ID                          233154 non-null  int64  \n",
      " 5   MANUFACTURER_ID                      233154 non-null  int64  \n",
      " 6   CURRENT_PINCODE_ID                   233154 non-null  int64  \n",
      " 7   EMPLOYMENT_TYPE                      233154 non-null  object \n",
      " 8   STATE_ID                             233154 non-null  int64  \n",
      " 9   EMPLOYEE_CODE_ID                     233154 non-null  int64  \n",
      " 10  MOBILENO_AVL_FLAG                    233154 non-null  int64  \n",
      " 11  AADHAR_FLAG                          233154 non-null  int64  \n",
      " 12  PAN_FLAG                             233154 non-null  int64  \n",
      " 13  VOTERID_FLAG                         233154 non-null  int64  \n",
      " 14  DRIVING_FLAG                         233154 non-null  int64  \n",
      " 15  PASSPORT_FLAG                        233154 non-null  int64  \n",
      " 16  PERFORM_CNS_SCORE                    233154 non-null  int64  \n",
      " 17  PERFORM_CNS_SCORE_DESCRIPTION        233154 non-null  object \n",
      " 18  PRI_NO_OF_ACCTS                      233154 non-null  int64  \n",
      " 19  PRI_ACTIVE_ACCTS                     233154 non-null  int64  \n",
      " 20  PRI_OVERDUE_ACCTS                    233154 non-null  int64  \n",
      " 21  PRI_CURRENT_BALANCE                  233154 non-null  int64  \n",
      " 22  PRI_SANCTIONED_AMOUNT                233154 non-null  int64  \n",
      " 23  PRI_DISBURSED_AMOUNT                 233154 non-null  int64  \n",
      " 24  SEC_NO_OF_ACCTS                      233154 non-null  int64  \n",
      " 25  SEC_ACTIVE_ACCTS                     233154 non-null  int64  \n",
      " 26  SEC_OVERDUE_ACCTS                    233154 non-null  int64  \n",
      " 27  SEC_CURRENT_BALANCE                  233154 non-null  int64  \n",
      " 28  SEC_SANCTIONED_AMOUNT                233154 non-null  int64  \n",
      " 29  SEC_DISBURSED_AMOUNT                 233154 non-null  int64  \n",
      " 30  PRIMARY_INSTAL_AMT                   233154 non-null  int64  \n",
      " 31  SEC_INSTAL_AMT                       233154 non-null  int64  \n",
      " 32  NEW_ACCTS_IN_LAST_SIX_MONTHS         233154 non-null  int64  \n",
      " 33  DELINQUENT_ACCTS_IN_LAST_SIX_MONTHS  233154 non-null  int64  \n",
      " 34  AVERAGE_ACCT_AGE                     233154 non-null  object \n",
      " 35  CREDIT_HISTORY_LENGTH                233154 non-null  object \n",
      " 36  NO_OF_INQUIRIES                      233154 non-null  int64  \n",
      " 37  LOAN_DEFAULT                         233154 non-null  int64  \n",
      " 38  AGE                                  233154 non-null  int64  \n",
      " 39  DISBURSAL_MONTH                      233154 non-null  int64  \n",
      " 40  CREDIT_HISTORY_LENGTH_MONTHS         233154 non-null  int64  \n",
      " 41  AVERAGE_ACCT_AGE_MONTHS              233154 non-null  int64  \n",
      "dtypes: float64(1), int64(37), object(4)\n",
      "memory usage: 72.9+ MB\n"
     ]
    }
   ],
   "source": [
    "#viewing the cleaned dataframe's info\n",
    "loan_df.info()"
   ]
  },
  {
   "cell_type": "code",
   "execution_count": 26,
   "metadata": {},
   "outputs": [
    {
     "data": {
      "text/plain": [
       "DISBURSED_AMOUNT                       24565\n",
       "ASSET_COST                             46252\n",
       "LTV                                     6579\n",
       "BRANCH_ID                                 82\n",
       "SUPPLIER_ID                             2953\n",
       "MANUFACTURER_ID                           11\n",
       "CURRENT_PINCODE_ID                      6698\n",
       "EMPLOYMENT_TYPE                            3\n",
       "STATE_ID                                  22\n",
       "EMPLOYEE_CODE_ID                        3270\n",
       "MOBILENO_AVL_FLAG                          1\n",
       "AADHAR_FLAG                                2\n",
       "PAN_FLAG                                   2\n",
       "VOTERID_FLAG                               2\n",
       "DRIVING_FLAG                               2\n",
       "PASSPORT_FLAG                              2\n",
       "PERFORM_CNS_SCORE                        573\n",
       "PERFORM_CNS_SCORE_DESCRIPTION             20\n",
       "PRI_NO_OF_ACCTS                          108\n",
       "PRI_ACTIVE_ACCTS                          40\n",
       "PRI_OVERDUE_ACCTS                         22\n",
       "PRI_CURRENT_BALANCE                    71341\n",
       "PRI_SANCTIONED_AMOUNT                  44390\n",
       "PRI_DISBURSED_AMOUNT                   47909\n",
       "SEC_NO_OF_ACCTS                           37\n",
       "SEC_ACTIVE_ACCTS                          23\n",
       "SEC_OVERDUE_ACCTS                          9\n",
       "SEC_CURRENT_BALANCE                     3246\n",
       "SEC_SANCTIONED_AMOUNT                   2223\n",
       "SEC_DISBURSED_AMOUNT                    2553\n",
       "PRIMARY_INSTAL_AMT                     28067\n",
       "SEC_INSTAL_AMT                          1918\n",
       "NEW_ACCTS_IN_LAST_SIX_MONTHS              26\n",
       "DELINQUENT_ACCTS_IN_LAST_SIX_MONTHS       14\n",
       "AVERAGE_ACCT_AGE                         192\n",
       "CREDIT_HISTORY_LENGTH                    294\n",
       "NO_OF_INQUIRIES                           25\n",
       "LOAN_DEFAULT                               2\n",
       "AGE                                       49\n",
       "DISBURSAL_MONTH                           12\n",
       "CREDIT_HISTORY_LENGTH_MONTHS             294\n",
       "AVERAGE_ACCT_AGE_MONTHS                  192\n",
       "dtype: int64"
      ]
     },
     "execution_count": 26,
     "metadata": {},
     "output_type": "execute_result"
    }
   ],
   "source": [
    "#exploratory data analysis to identify columns with no predictive value based on unique values\n",
    "loan_df.nunique()"
   ]
  },
  {
   "cell_type": "code",
   "execution_count": 27,
   "metadata": {},
   "outputs": [],
   "source": [
    "#every row in mobileno_avl_flag has one unique value (number 1). hence, no predictive value\n",
    "loan_df = loan_df.drop([\"MOBILENO_AVL_FLAG\"], axis=1)"
   ]
  },
  {
   "cell_type": "code",
   "execution_count": 28,
   "metadata": {},
   "outputs": [
    {
     "name": "stdout",
     "output_type": "stream",
     "text": [
      "<class 'pandas.core.frame.DataFrame'>\n",
      "Int64Index: 233154 entries, 420825 to 630213\n",
      "Data columns (total 41 columns):\n",
      " #   Column                               Non-Null Count   Dtype  \n",
      "---  ------                               --------------   -----  \n",
      " 0   DISBURSED_AMOUNT                     233154 non-null  int64  \n",
      " 1   ASSET_COST                           233154 non-null  int64  \n",
      " 2   LTV                                  233154 non-null  float64\n",
      " 3   BRANCH_ID                            233154 non-null  int64  \n",
      " 4   SUPPLIER_ID                          233154 non-null  int64  \n",
      " 5   MANUFACTURER_ID                      233154 non-null  int64  \n",
      " 6   CURRENT_PINCODE_ID                   233154 non-null  int64  \n",
      " 7   EMPLOYMENT_TYPE                      233154 non-null  object \n",
      " 8   STATE_ID                             233154 non-null  int64  \n",
      " 9   EMPLOYEE_CODE_ID                     233154 non-null  int64  \n",
      " 10  AADHAR_FLAG                          233154 non-null  int64  \n",
      " 11  PAN_FLAG                             233154 non-null  int64  \n",
      " 12  VOTERID_FLAG                         233154 non-null  int64  \n",
      " 13  DRIVING_FLAG                         233154 non-null  int64  \n",
      " 14  PASSPORT_FLAG                        233154 non-null  int64  \n",
      " 15  PERFORM_CNS_SCORE                    233154 non-null  int64  \n",
      " 16  PERFORM_CNS_SCORE_DESCRIPTION        233154 non-null  object \n",
      " 17  PRI_NO_OF_ACCTS                      233154 non-null  int64  \n",
      " 18  PRI_ACTIVE_ACCTS                     233154 non-null  int64  \n",
      " 19  PRI_OVERDUE_ACCTS                    233154 non-null  int64  \n",
      " 20  PRI_CURRENT_BALANCE                  233154 non-null  int64  \n",
      " 21  PRI_SANCTIONED_AMOUNT                233154 non-null  int64  \n",
      " 22  PRI_DISBURSED_AMOUNT                 233154 non-null  int64  \n",
      " 23  SEC_NO_OF_ACCTS                      233154 non-null  int64  \n",
      " 24  SEC_ACTIVE_ACCTS                     233154 non-null  int64  \n",
      " 25  SEC_OVERDUE_ACCTS                    233154 non-null  int64  \n",
      " 26  SEC_CURRENT_BALANCE                  233154 non-null  int64  \n",
      " 27  SEC_SANCTIONED_AMOUNT                233154 non-null  int64  \n",
      " 28  SEC_DISBURSED_AMOUNT                 233154 non-null  int64  \n",
      " 29  PRIMARY_INSTAL_AMT                   233154 non-null  int64  \n",
      " 30  SEC_INSTAL_AMT                       233154 non-null  int64  \n",
      " 31  NEW_ACCTS_IN_LAST_SIX_MONTHS         233154 non-null  int64  \n",
      " 32  DELINQUENT_ACCTS_IN_LAST_SIX_MONTHS  233154 non-null  int64  \n",
      " 33  AVERAGE_ACCT_AGE                     233154 non-null  object \n",
      " 34  CREDIT_HISTORY_LENGTH                233154 non-null  object \n",
      " 35  NO_OF_INQUIRIES                      233154 non-null  int64  \n",
      " 36  LOAN_DEFAULT                         233154 non-null  int64  \n",
      " 37  AGE                                  233154 non-null  int64  \n",
      " 38  DISBURSAL_MONTH                      233154 non-null  int64  \n",
      " 39  CREDIT_HISTORY_LENGTH_MONTHS         233154 non-null  int64  \n",
      " 40  AVERAGE_ACCT_AGE_MONTHS              233154 non-null  int64  \n",
      "dtypes: float64(1), int64(36), object(4)\n",
      "memory usage: 71.2+ MB\n"
     ]
    }
   ],
   "source": [
    "loan_df.info()"
   ]
  },
  {
   "cell_type": "code",
   "execution_count": 29,
   "metadata": {},
   "outputs": [],
   "source": [
    "#droping some id columns because although categorical, they are unordered and can introduce complexity into our model\n",
    "loan_df = loan_df.drop([\"SUPPLIER_ID\", \"CURRENT_PINCODE_ID\", \"EMPLOYEE_CODE_ID\", \"BRANCH_ID\"], axis=1)"
   ]
  },
  {
   "cell_type": "code",
   "execution_count": 45,
   "metadata": {},
   "outputs": [
    {
     "data": {
      "image/png": "[encoded data removed]",
      "text/plain": [
       "<Figure size 432x288 with 1 Axes>"
      ]
     },
     "metadata": {
      "needs_background": "light"
     },
     "output_type": "display_data"
    }
   ],
   "source": [
    "#viewing total car loans taken up by each car manufacturer \n",
    "sns.countplot(x=\"MANUFACTURER_ID\", data=loan_df);"
   ]
  },
  {
   "cell_type": "code",
   "execution_count": 31,
   "metadata": {},
   "outputs": [
    {
     "name": "stdout",
     "output_type": "stream",
     "text": [
      "86     0.469792\n",
      "45     0.242870\n",
      "51     0.116678\n",
      "48     0.071669\n",
      "49     0.043834\n",
      "120    0.041423\n",
      "67     0.010315\n",
      "145    0.003337\n",
      "153    0.000051\n",
      "152    0.000026\n",
      "156    0.000004\n",
      "Name: MANUFACTURER_ID, dtype: float64\n"
     ]
    }
   ],
   "source": [
    "#viewing the percentage of total car loans taken up by each car manufacturer. to answers questions on whether manufacturer 156 is very expensive and has zero % of the total loans \n",
    "print(loan_df.MANUFACTURER_ID.value_counts(normalize=True))"
   ]
  },
  {
   "cell_type": "code",
   "execution_count": 32,
   "metadata": {},
   "outputs": [
    {
     "data": {
      "text/html": [
       "<div>\n",
       "<style scoped>\n",
       "    .dataframe tbody tr th:only-of-type {\n",
       "        vertical-align: middle;\n",
       "    }\n",
       "\n",
       "    .dataframe tbody tr th {\n",
       "        vertical-align: top;\n",
       "    }\n",
       "\n",
       "    .dataframe thead th {\n",
       "        text-align: right;\n",
       "    }\n",
       "</style>\n",
       "<table border=\"1\" class=\"dataframe\">\n",
       "  <thead>\n",
       "    <tr style=\"text-align: right;\">\n",
       "      <th>LOAN_DEFAULT</th>\n",
       "      <th>0</th>\n",
       "      <th>1</th>\n",
       "    </tr>\n",
       "    <tr>\n",
       "      <th>MANUFACTURER_ID</th>\n",
       "      <th></th>\n",
       "      <th></th>\n",
       "    </tr>\n",
       "  </thead>\n",
       "  <tbody>\n",
       "    <tr>\n",
       "      <th>45</th>\n",
       "      <td>0.771501</td>\n",
       "      <td>0.228499</td>\n",
       "    </tr>\n",
       "    <tr>\n",
       "      <th>48</th>\n",
       "      <td>0.727469</td>\n",
       "      <td>0.272531</td>\n",
       "    </tr>\n",
       "    <tr>\n",
       "      <th>49</th>\n",
       "      <td>0.781213</td>\n",
       "      <td>0.218787</td>\n",
       "    </tr>\n",
       "    <tr>\n",
       "      <th>51</th>\n",
       "      <td>0.792053</td>\n",
       "      <td>0.207947</td>\n",
       "    </tr>\n",
       "    <tr>\n",
       "      <th>67</th>\n",
       "      <td>0.782536</td>\n",
       "      <td>0.217464</td>\n",
       "    </tr>\n",
       "    <tr>\n",
       "      <th>86</th>\n",
       "      <td>0.795406</td>\n",
       "      <td>0.204594</td>\n",
       "    </tr>\n",
       "    <tr>\n",
       "      <th>120</th>\n",
       "      <td>0.779250</td>\n",
       "      <td>0.220750</td>\n",
       "    </tr>\n",
       "    <tr>\n",
       "      <th>145</th>\n",
       "      <td>0.799486</td>\n",
       "      <td>0.200514</td>\n",
       "    </tr>\n",
       "    <tr>\n",
       "      <th>152</th>\n",
       "      <td>1.000000</td>\n",
       "      <td>NaN</td>\n",
       "    </tr>\n",
       "    <tr>\n",
       "      <th>153</th>\n",
       "      <td>0.666667</td>\n",
       "      <td>0.333333</td>\n",
       "    </tr>\n",
       "    <tr>\n",
       "      <th>156</th>\n",
       "      <td>1.000000</td>\n",
       "      <td>NaN</td>\n",
       "    </tr>\n",
       "  </tbody>\n",
       "</table>\n",
       "</div>"
      ],
      "text/plain": [
       "LOAN_DEFAULT            0         1\n",
       "MANUFACTURER_ID                    \n",
       "45               0.771501  0.228499\n",
       "48               0.727469  0.272531\n",
       "49               0.781213  0.218787\n",
       "51               0.792053  0.207947\n",
       "67               0.782536  0.217464\n",
       "86               0.795406  0.204594\n",
       "120              0.779250  0.220750\n",
       "145              0.799486  0.200514\n",
       "152              1.000000       NaN\n",
       "153              0.666667  0.333333\n",
       "156              1.000000       NaN"
      ]
     },
     "execution_count": 32,
     "metadata": {},
     "output_type": "execute_result"
    }
   ],
   "source": [
    "#grouping loan default percentage by manufacturer ID. pivoting our otput on the loan default column using unstack\n",
    "loan_df.groupby(\"MANUFACTURER_ID\")[\"LOAN_DEFAULT\"].value_counts(normalize=True).unstack(level=-1)"
   ]
  },
  {
   "cell_type": "code",
   "execution_count": 33,
   "metadata": {},
   "outputs": [
    {
     "data": {
      "image/png": "[encoded data removed]",
      "text/plain": [
       "<Figure size 443.375x360 with 1 Axes>"
      ]
     },
     "metadata": {
      "needs_background": "light"
     },
     "output_type": "display_data"
    }
   ],
   "source": [
    "#sorting the frequency of loan default by manufacturer ID\n",
    "sns.catplot(x=\"MANUFACTURER_ID\", kind=\"count\", hue=\"LOAN_DEFAULT\", data=loan_df)\n",
    "plt.ylabel(\"Disbursal\")\n",
    "plt.show();"
   ]
  },
  {
   "cell_type": "code",
   "execution_count": 34,
   "metadata": {},
   "outputs": [],
   "source": [
    "#creating a function from previous exploratory data analysis processes for other categorical columns\n",
    "\n",
    "def eda_cat(col_name: str):\n",
    "    print(f'{col_name} summary')\n",
    "    print(\"\\n\")\n",
    "\n",
    "    print(f'{col_name} value counts')\n",
    "    print(loan_df[col_name].value_counts())\n",
    "    print(\"\\n\")\n",
    "\n",
    "    print(f'Grouping {col_name} by percentage of loan default')\n",
    "    print(loan_df.groupby(col_name)[\"LOAN_DEFAULT\"].value_counts(normalize=True).unstack(level=-1))\n",
    "    print(\"\\n\")\n",
    "\n",
    "    print(f'catplot of {col_name}')\n",
    "    sns.catplot(x=col_name, kind=\"count\", hue=\"LOAN_DEFAULT\", data=loan_df);\n",
    "    plt.ylabel(\"Disbursal\")\n",
    "    plt.show()"
   ]
  },
  {
   "cell_type": "code",
   "execution_count": 35,
   "metadata": {},
   "outputs": [
    {
     "name": "stdout",
     "output_type": "stream",
     "text": [
      "DISBURSAL_MONTH summary\n",
      "\n",
      "\n",
      "DISBURSAL_MONTH value counts\n",
      "10    84875\n",
      "8     56975\n",
      "9     54443\n",
      "11     6709\n",
      "6      5991\n",
      "12     5613\n",
      "3      5148\n",
      "4      4627\n",
      "7      4150\n",
      "5      2890\n",
      "1      1708\n",
      "2        25\n",
      "Name: DISBURSAL_MONTH, dtype: int64\n",
      "\n",
      "\n",
      "Grouping DISBURSAL_MONTH by percentage of loan default\n",
      "LOAN_DEFAULT            0         1\n",
      "DISBURSAL_MONTH                    \n",
      "1                0.770492  0.229508\n",
      "2                0.920000  0.080000\n",
      "3                0.795260  0.204740\n",
      "4                0.785822  0.214178\n",
      "5                0.788581  0.211419\n",
      "6                0.784009  0.215991\n",
      "7                0.776386  0.223614\n",
      "8                0.788732  0.211268\n",
      "9                0.806532  0.193468\n",
      "10               0.759635  0.240365\n",
      "11               0.817409  0.182591\n",
      "12               0.796366  0.203634\n",
      "\n",
      "\n",
      "catplot of DISBURSAL_MONTH\n"
     ]
    },
    {
     "data": {
      "image/png": "[encoded data removed]",
      "text/plain": [
       "<Figure size 443.375x360 with 1 Axes>"
      ]
     },
     "metadata": {
      "needs_background": "light"
     },
     "output_type": "display_data"
    }
   ],
   "source": [
    "#running exploratory data analysis function on categorical data\n",
    "eda_cat(\"DISBURSAL_MONTH\")"
   ]
  },
  {
   "cell_type": "code",
   "execution_count": 36,
   "metadata": {},
   "outputs": [
    {
     "name": "stdout",
     "output_type": "stream",
     "text": [
      "count    233154.000000\n",
      "mean         33.902871\n",
      "std           9.829475\n",
      "min          17.000000\n",
      "25%          26.000000\n",
      "50%          32.000000\n",
      "75%          41.000000\n",
      "max          69.000000\n",
      "Name: AGE, dtype: float64\n"
     ]
    },
    {
     "data": {
      "image/png": "[encoded data removed]",
      "text/plain": [
       "<Figure size 432x288 with 1 Axes>"
      ]
     },
     "metadata": {
      "needs_background": "light"
     },
     "output_type": "display_data"
    }
   ],
   "source": [
    "#generating summary statistics of continuous variables using describe method\n",
    "print(loan_df.AGE.describe())\n",
    "\n",
    "#visualing descriptive statistics with box plot\n",
    "sns.boxplot(x=\"AGE\", data=loan_df);"
   ]
  },
  {
   "cell_type": "code",
   "execution_count": 43,
   "metadata": {},
   "outputs": [
    {
     "data": {
      "image/png": "[encoded data removed]",
      "text/plain": [
       "<Figure size 432x288 with 1 Axes>"
      ]
     },
     "metadata": {
      "needs_background": "light"
     },
     "output_type": "display_data"
    }
   ],
   "source": [
    "#using distplot to better visualize the frequency of age distribution\n",
    "sns.distplot(loan_df.AGE, hist=True);\n",
    "plt.show()"
   ]
  },
  {
   "cell_type": "code",
   "execution_count": 38,
   "metadata": {},
   "outputs": [
    {
     "name": "stdout",
     "output_type": "stream",
     "text": [
      "                 count       mean       std   min   25%   50%   75%   max\n",
      "LOAN_DEFAULT                                                             \n",
      "0             182543.0  34.090713  9.860825  17.0  26.0  32.0  41.0  69.0\n",
      "1              50611.0  33.225366  9.685441  17.0  25.0  31.0  40.0  64.0\n"
     ]
    },
    {
     "data": {
      "image/png": "[encoded data removed]",
      "text/plain": [
       "<Figure size 432x288 with 1 Axes>"
      ]
     },
     "metadata": {
      "needs_background": "light"
     },
     "output_type": "display_data"
    }
   ],
   "source": [
    "#viewing summary stats of defaulter/non-defaulter's age grouped by the target variable \n",
    "print(loan_df.groupby(\"LOAN_DEFAULT\")[\"AGE\"].describe())\n",
    "\n",
    "#viewing summary stats of defaulter/non-defaulter's age grouped by the target variable\n",
    "sns.boxplot(x=\"AGE\", y=\"LOAN_DEFAULT\", data=loan_df, orient=\"h\");"
   ]
  },
  {
   "cell_type": "code",
   "execution_count": 50,
   "metadata": {},
   "outputs": [],
   "source": [
    "#creating a function to explore continuous variables\n",
    "def eda_con(*col_name):\n",
    "    for col in col_name:\n",
    "        print(f'summary statistics of {col}')\n",
    "        print(loan_df[col].describe())\n",
    "        print(\"\\n\")\n",
    "\n",
    "        print(f'boxplot to visualize summary statistics of {col}')\n",
    "        sns.boxplot(x=col, data=loan_df);\n",
    "        plt.show()\n",
    "        print(\"\\n\")\n",
    "\n",
    "        print(f'displot to further visualize frequency of {col}')\n",
    "        sns.distplot(loan_df[col], hist=True);\n",
    "        plt.show()\n",
    "        print(\"\\n\")\n",
    "\n",
    "        print(f'summary statistics of grouping {col} by the target variable')\n",
    "        print(loan_df.groupby(\"LOAN_DEFAULT\")[col].describe())\n",
    "        print(\"\\n\")\n",
    "\n",
    "        print(f'boxplot to visualize summary stats of {col} grouped by the target variable')\n",
    "        sns.boxplot(x=col, y=\"LOAN_DEFAULT\", data=loan_df, orient=\"h\");\n",
    "        plt.show()\n",
    "        print(\"\\n\")"
   ]
  },
  {
   "cell_type": "code",
   "execution_count": 51,
   "metadata": {},
   "outputs": [
    {
     "name": "stdout",
     "output_type": "stream",
     "text": [
      "summary statistics of DISBURSED_AMOUNT\n",
      "count    233154.000000\n",
      "mean      54356.993528\n",
      "std       12971.314171\n",
      "min       13320.000000\n",
      "25%       47145.000000\n",
      "50%       53803.000000\n",
      "75%       60413.000000\n",
      "max      990572.000000\n",
      "Name: DISBURSED_AMOUNT, dtype: float64\n",
      "\n",
      "\n",
      "boxplot to visualize summary statistics of DISBURSED_AMOUNT\n"
     ]
    },
    {
     "data": {
      "image/png": "[encoded data removed]",
      "text/plain": [
       "<Figure size 432x288 with 1 Axes>"
      ]
     },
     "metadata": {
      "needs_background": "light"
     },
     "output_type": "display_data"
    },
    {
     "name": "stdout",
     "output_type": "stream",
     "text": [
      "\n",
      "\n",
      "displot to further visualize frequency of DISBURSED_AMOUNT\n"
     ]
    },
    {
     "name": "stderr",
     "output_type": "stream",
     "text": [
      "c:\\Users\\Daniel-Panovest\\anaconda3\\lib\\site-packages\\seaborn\\distributions.py:2619: FutureWarning: `distplot` is a deprecated function and will be removed in a future version. Please adapt your code to use either `displot` (a figure-level function with similar flexibility) or `histplot` (an axes-level function for histograms).\n",
      "  warnings.warn(msg, FutureWarning)\n"
     ]
    },
    {
     "data": {
      "image/png": "[encoded data removed]",
      "text/plain": [
       "<Figure size 432x288 with 1 Axes>"
      ]
     },
     "metadata": {
      "needs_background": "light"
     },
     "output_type": "display_data"
    },
    {
     "name": "stdout",
     "output_type": "stream",
     "text": [
      "\n",
      "\n",
      "summary statistics of grouping DISBURSED_AMOUNT by the target variable\n",
      "                 count          mean           std      min      25%      50%  \\\n",
      "LOAN_DEFAULT                                                                    \n",
      "0             182543.0  53826.471111  13140.699007  13320.0  46369.0  53303.0   \n",
      "1              50611.0  56270.473869  12150.255527  13369.0  49303.0  55459.0   \n",
      "\n",
      "                  75%       max  \n",
      "LOAN_DEFAULT                     \n",
      "0             59947.0  990572.0  \n",
      "1             61947.0  191392.0  \n",
      "\n",
      "\n",
      "boxplot to visualize summary stats of DISBURSED_AMOUNT grouped by the target variable\n"
     ]
    },
    {
     "data": {
      "image/png": "[encoded data removed]",
      "text/plain": [
       "<Figure size 432x288 with 1 Axes>"
      ]
     },
     "metadata": {
      "needs_background": "light"
     },
     "output_type": "display_data"
    },
    {
     "name": "stdout",
     "output_type": "stream",
     "text": [
      "\n",
      "\n"
     ]
    }
   ],
   "source": [
    "eda_con(\"DISBURSED_AMOUNT\")"
   ]
  },
  {
   "cell_type": "code",
   "execution_count": 56,
   "metadata": {},
   "outputs": [],
   "source": [
    "loan_df.to_csv('C:\\\\Users\\\\Daniel-Panovest\\\\Downloads\\\\python ultra\\\\files\\\\data\\\\vehicle_loans_eda.csv')"
   ]
  }
 ],
 "metadata": {
  "kernelspec": {
   "display_name": "base",
   "language": "python",
   "name": "python3"
  },
  "language_info": {
   "codemirror_mode": {
    "name": "ipython",
    "version": 3
   },
   "file_extension": ".py",
   "mimetype": "text/x-python",
   "name": "python",
   "nbconvert_exporter": "python",
   "pygments_lexer": "ipython3",
   "version": "3.9.12"
  },
  "orig_nbformat": 4
 },
 "nbformat": 4,
 "nbformat_minor": 2
}
