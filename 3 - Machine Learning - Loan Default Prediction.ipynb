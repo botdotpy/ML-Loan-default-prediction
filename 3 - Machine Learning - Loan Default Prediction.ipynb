{
 "cells": [
  {
   "cell_type": "code",
   "execution_count": 1,
   "metadata": {},
   "outputs": [],
   "source": [
    "#import libraries\n",
    "import numpy as np\n",
    "import pandas as pd\n",
    "import matplotlib.pyplot as plt\n",
    "import seaborn as sns\n",
    "%matplotlib inline"
   ]
  },
  {
   "cell_type": "code",
   "execution_count": 2,
   "metadata": {},
   "outputs": [],
   "source": [
    "#reading recently completed eda file as loan df\n",
    "loan_df = pd.read_csv('C:\\\\Users\\\\Daniel-Panovest\\\\Downloads\\\\python ultra\\\\files\\data\\\\vehicle_loans_eda.csv', index_col='UNIQUEID')"
   ]
  },
  {
   "cell_type": "code",
   "execution_count": 3,
   "metadata": {},
   "outputs": [
    {
     "data": {
      "text/html": [
       "<div>\n",
       "<style scoped>\n",
       "    .dataframe tbody tr th:only-of-type {\n",
       "        vertical-align: middle;\n",
       "    }\n",
       "\n",
       "    .dataframe tbody tr th {\n",
       "        vertical-align: top;\n",
       "    }\n",
       "\n",
       "    .dataframe thead th {\n",
       "        text-align: right;\n",
       "    }\n",
       "</style>\n",
       "<table border=\"1\" class=\"dataframe\">\n",
       "  <thead>\n",
       "    <tr style=\"text-align: right;\">\n",
       "      <th></th>\n",
       "      <th>DISBURSED_AMOUNT</th>\n",
       "      <th>ASSET_COST</th>\n",
       "      <th>LTV</th>\n",
       "      <th>MANUFACTURER_ID</th>\n",
       "      <th>EMPLOYMENT_TYPE</th>\n",
       "      <th>STATE_ID</th>\n",
       "      <th>AADHAR_FLAG</th>\n",
       "      <th>PAN_FLAG</th>\n",
       "      <th>VOTERID_FLAG</th>\n",
       "      <th>DRIVING_FLAG</th>\n",
       "      <th>...</th>\n",
       "      <th>NEW_ACCTS_IN_LAST_SIX_MONTHS</th>\n",
       "      <th>DELINQUENT_ACCTS_IN_LAST_SIX_MONTHS</th>\n",
       "      <th>AVERAGE_ACCT_AGE</th>\n",
       "      <th>CREDIT_HISTORY_LENGTH</th>\n",
       "      <th>NO_OF_INQUIRIES</th>\n",
       "      <th>LOAN_DEFAULT</th>\n",
       "      <th>AGE</th>\n",
       "      <th>DISBURSAL_MONTH</th>\n",
       "      <th>CREDIT_HISTORY_LENGTH_MONTHS</th>\n",
       "      <th>AVERAGE_ACCT_AGE_MONTHS</th>\n",
       "    </tr>\n",
       "    <tr>\n",
       "      <th>UNIQUEID</th>\n",
       "      <th></th>\n",
       "      <th></th>\n",
       "      <th></th>\n",
       "      <th></th>\n",
       "      <th></th>\n",
       "      <th></th>\n",
       "      <th></th>\n",
       "      <th></th>\n",
       "      <th></th>\n",
       "      <th></th>\n",
       "      <th></th>\n",
       "      <th></th>\n",
       "      <th></th>\n",
       "      <th></th>\n",
       "      <th></th>\n",
       "      <th></th>\n",
       "      <th></th>\n",
       "      <th></th>\n",
       "      <th></th>\n",
       "      <th></th>\n",
       "      <th></th>\n",
       "    </tr>\n",
       "  </thead>\n",
       "  <tbody>\n",
       "    <tr>\n",
       "      <th>420825</th>\n",
       "      <td>50578</td>\n",
       "      <td>58400</td>\n",
       "      <td>89.55</td>\n",
       "      <td>45</td>\n",
       "      <td>Salaried</td>\n",
       "      <td>6</td>\n",
       "      <td>1</td>\n",
       "      <td>0</td>\n",
       "      <td>0</td>\n",
       "      <td>0</td>\n",
       "      <td>...</td>\n",
       "      <td>0</td>\n",
       "      <td>0</td>\n",
       "      <td>0yrs 0mon</td>\n",
       "      <td>0yrs 0mon</td>\n",
       "      <td>0</td>\n",
       "      <td>0</td>\n",
       "      <td>34</td>\n",
       "      <td>3</td>\n",
       "      <td>0</td>\n",
       "      <td>0</td>\n",
       "    </tr>\n",
       "    <tr>\n",
       "      <th>537409</th>\n",
       "      <td>47145</td>\n",
       "      <td>65550</td>\n",
       "      <td>73.23</td>\n",
       "      <td>45</td>\n",
       "      <td>Self employed</td>\n",
       "      <td>6</td>\n",
       "      <td>1</td>\n",
       "      <td>0</td>\n",
       "      <td>0</td>\n",
       "      <td>0</td>\n",
       "      <td>...</td>\n",
       "      <td>0</td>\n",
       "      <td>1</td>\n",
       "      <td>1yrs 11mon</td>\n",
       "      <td>1yrs 11mon</td>\n",
       "      <td>0</td>\n",
       "      <td>1</td>\n",
       "      <td>33</td>\n",
       "      <td>9</td>\n",
       "      <td>23</td>\n",
       "      <td>23</td>\n",
       "    </tr>\n",
       "    <tr>\n",
       "      <th>417566</th>\n",
       "      <td>53278</td>\n",
       "      <td>61360</td>\n",
       "      <td>89.63</td>\n",
       "      <td>45</td>\n",
       "      <td>Self employed</td>\n",
       "      <td>6</td>\n",
       "      <td>1</td>\n",
       "      <td>0</td>\n",
       "      <td>0</td>\n",
       "      <td>0</td>\n",
       "      <td>...</td>\n",
       "      <td>0</td>\n",
       "      <td>0</td>\n",
       "      <td>0yrs 0mon</td>\n",
       "      <td>0yrs 0mon</td>\n",
       "      <td>0</td>\n",
       "      <td>0</td>\n",
       "      <td>32</td>\n",
       "      <td>1</td>\n",
       "      <td>0</td>\n",
       "      <td>0</td>\n",
       "    </tr>\n",
       "    <tr>\n",
       "      <th>624493</th>\n",
       "      <td>57513</td>\n",
       "      <td>66113</td>\n",
       "      <td>88.48</td>\n",
       "      <td>45</td>\n",
       "      <td>Self employed</td>\n",
       "      <td>6</td>\n",
       "      <td>1</td>\n",
       "      <td>0</td>\n",
       "      <td>0</td>\n",
       "      <td>0</td>\n",
       "      <td>...</td>\n",
       "      <td>0</td>\n",
       "      <td>0</td>\n",
       "      <td>0yrs 8mon</td>\n",
       "      <td>1yrs 3mon</td>\n",
       "      <td>1</td>\n",
       "      <td>1</td>\n",
       "      <td>24</td>\n",
       "      <td>10</td>\n",
       "      <td>15</td>\n",
       "      <td>8</td>\n",
       "    </tr>\n",
       "    <tr>\n",
       "      <th>539055</th>\n",
       "      <td>52378</td>\n",
       "      <td>60300</td>\n",
       "      <td>88.39</td>\n",
       "      <td>45</td>\n",
       "      <td>Self employed</td>\n",
       "      <td>6</td>\n",
       "      <td>1</td>\n",
       "      <td>0</td>\n",
       "      <td>0</td>\n",
       "      <td>0</td>\n",
       "      <td>...</td>\n",
       "      <td>0</td>\n",
       "      <td>0</td>\n",
       "      <td>0yrs 0mon</td>\n",
       "      <td>0yrs 0mon</td>\n",
       "      <td>1</td>\n",
       "      <td>1</td>\n",
       "      <td>41</td>\n",
       "      <td>9</td>\n",
       "      <td>0</td>\n",
       "      <td>0</td>\n",
       "    </tr>\n",
       "  </tbody>\n",
       "</table>\n",
       "<p>5 rows × 37 columns</p>\n",
       "</div>"
      ],
      "text/plain": [
       "          DISBURSED_AMOUNT  ASSET_COST    LTV  MANUFACTURER_ID  \\\n",
       "UNIQUEID                                                         \n",
       "420825               50578       58400  89.55               45   \n",
       "537409               47145       65550  73.23               45   \n",
       "417566               53278       61360  89.63               45   \n",
       "624493               57513       66113  88.48               45   \n",
       "539055               52378       60300  88.39               45   \n",
       "\n",
       "         EMPLOYMENT_TYPE  STATE_ID  AADHAR_FLAG  PAN_FLAG  VOTERID_FLAG  \\\n",
       "UNIQUEID                                                                  \n",
       "420825          Salaried         6            1         0             0   \n",
       "537409     Self employed         6            1         0             0   \n",
       "417566     Self employed         6            1         0             0   \n",
       "624493     Self employed         6            1         0             0   \n",
       "539055     Self employed         6            1         0             0   \n",
       "\n",
       "          DRIVING_FLAG  ...  NEW_ACCTS_IN_LAST_SIX_MONTHS  \\\n",
       "UNIQUEID                ...                                 \n",
       "420825               0  ...                             0   \n",
       "537409               0  ...                             0   \n",
       "417566               0  ...                             0   \n",
       "624493               0  ...                             0   \n",
       "539055               0  ...                             0   \n",
       "\n",
       "          DELINQUENT_ACCTS_IN_LAST_SIX_MONTHS AVERAGE_ACCT_AGE  \\\n",
       "UNIQUEID                                                         \n",
       "420825                                      0        0yrs 0mon   \n",
       "537409                                      1       1yrs 11mon   \n",
       "417566                                      0        0yrs 0mon   \n",
       "624493                                      0        0yrs 8mon   \n",
       "539055                                      0        0yrs 0mon   \n",
       "\n",
       "          CREDIT_HISTORY_LENGTH  NO_OF_INQUIRIES  LOAN_DEFAULT  AGE  \\\n",
       "UNIQUEID                                                              \n",
       "420825                0yrs 0mon                0             0   34   \n",
       "537409               1yrs 11mon                0             1   33   \n",
       "417566                0yrs 0mon                0             0   32   \n",
       "624493                1yrs 3mon                1             1   24   \n",
       "539055                0yrs 0mon                1             1   41   \n",
       "\n",
       "          DISBURSAL_MONTH  CREDIT_HISTORY_LENGTH_MONTHS  \\\n",
       "UNIQUEID                                                  \n",
       "420825                  3                             0   \n",
       "537409                  9                            23   \n",
       "417566                  1                             0   \n",
       "624493                 10                            15   \n",
       "539055                  9                             0   \n",
       "\n",
       "          AVERAGE_ACCT_AGE_MONTHS  \n",
       "UNIQUEID                           \n",
       "420825                          0  \n",
       "537409                         23  \n",
       "417566                          0  \n",
       "624493                          8  \n",
       "539055                          0  \n",
       "\n",
       "[5 rows x 37 columns]"
      ]
     },
     "execution_count": 3,
     "metadata": {},
     "output_type": "execute_result"
    }
   ],
   "source": [
    "#inspecting loan df\n",
    "loan_df.head()"
   ]
  },
  {
   "cell_type": "code",
   "execution_count": 4,
   "metadata": {},
   "outputs": [],
   "source": [
    "#recreating function to explore continous variables under disbursed amount column\n",
    "\n",
    "def eda_con(*col_name):\n",
    "    for col in col_name:\n",
    "        print(f'summary statistics of {col}')\n",
    "        print(loan_df[col].describe())\n",
    "        print(\"\\n\")\n",
    "\n",
    "        print(f'boxplot to visualize summary statistics of {col}')\n",
    "        sns.boxplot(x=col, data=loan_df);\n",
    "        plt.show()\n",
    "        print(\"\\n\")\n",
    "\n",
    "        print(f'displot to further visualize frequency of {col}')\n",
    "        sns.distplot(loan_df[col], hist=False);\n",
    "        plt.show()\n",
    "        print(\"\\n\")\n",
    "\n",
    "        print(f'summary statistics of grouping {col} by the target variable')\n",
    "        print(loan_df.groupby(\"LOAN_DEFAULT\")[col].describe())\n",
    "        print(\"\\n\")\n",
    "\n",
    "        print(f'boxplot to visualize summary stats of {col} grouped by the target variable')\n",
    "        sns.boxplot(x=col, y=\"LOAN_DEFAULT\", data=loan_df, orient=\"h\");\n",
    "        plt.show()\n",
    "        print(\"\\n\")"
   ]
  },
  {
   "cell_type": "code",
   "execution_count": 5,
   "metadata": {},
   "outputs": [
    {
     "name": "stdout",
     "output_type": "stream",
     "text": [
      "summary statistics of DISBURSED_AMOUNT\n",
      "count    233154.000000\n",
      "mean      54356.993528\n",
      "std       12971.314171\n",
      "min       13320.000000\n",
      "25%       47145.000000\n",
      "50%       53803.000000\n",
      "75%       60413.000000\n",
      "max      990572.000000\n",
      "Name: DISBURSED_AMOUNT, dtype: float64\n",
      "\n",
      "\n",
      "boxplot to visualize summary statistics of DISBURSED_AMOUNT\n"
     ]
    },
    {
     "data": {
      "image/png": "[encoded data removed]",
      "text/plain": [
       "<Figure size 432x288 with 1 Axes>"
      ]
     },
     "metadata": {
      "needs_background": "light"
     },
     "output_type": "display_data"
    },
    {
     "name": "stdout",
     "output_type": "stream",
     "text": [
      "\n",
      "\n",
      "displot to further visualize frequency of DISBURSED_AMOUNT\n"
     ]
    },
    {
     "name": "stderr",
     "output_type": "stream",
     "text": [
      "c:\\Users\\Daniel-Panovest\\anaconda3\\lib\\site-packages\\seaborn\\distributions.py:2619: FutureWarning: `distplot` is a deprecated function and will be removed in a future version. Please adapt your code to use either `displot` (a figure-level function with similar flexibility) or `kdeplot` (an axes-level function for kernel density plots).\n",
      "  warnings.warn(msg, FutureWarning)\n"
     ]
    },
    {
     "data": {
      "image/png": "[encoded data removed]",
      "text/plain": [
       "<Figure size 432x288 with 1 Axes>"
      ]
     },
     "metadata": {
      "needs_background": "light"
     },
     "output_type": "display_data"
    },
    {
     "name": "stdout",
     "output_type": "stream",
     "text": [
      "\n",
      "\n",
      "summary statistics of grouping DISBURSED_AMOUNT by the target variable\n",
      "                 count          mean           std      min      25%      50%  \\\n",
      "LOAN_DEFAULT                                                                    \n",
      "0             182543.0  53826.471111  13140.699007  13320.0  46369.0  53303.0   \n",
      "1              50611.0  56270.473869  12150.255527  13369.0  49303.0  55459.0   \n",
      "\n",
      "                  75%       max  \n",
      "LOAN_DEFAULT                     \n",
      "0             59947.0  990572.0  \n",
      "1             61947.0  191392.0  \n",
      "\n",
      "\n",
      "boxplot to visualize summary stats of DISBURSED_AMOUNT grouped by the target variable\n"
     ]
    },
    {
     "data": {
      "image/png": "[encoded data removed]",
      "text/plain": [
       "<Figure size 432x288 with 1 Axes>"
      ]
     },
     "metadata": {
      "needs_background": "light"
     },
     "output_type": "display_data"
    },
    {
     "name": "stdout",
     "output_type": "stream",
     "text": [
      "\n",
      "\n"
     ]
    }
   ],
   "source": [
    "eda_con('DISBURSED_AMOUNT')"
   ]
  },
  {
   "cell_type": "code",
   "execution_count": 6,
   "metadata": {},
   "outputs": [
    {
     "data": {
      "text/plain": [
       "DISBURSED_AMOUNT                                                                  990572\n",
       "ASSET_COST                                                                       1628992\n",
       "LTV                                                                                61.39\n",
       "MANUFACTURER_ID                                                                      152\n",
       "EMPLOYMENT_TYPE                                                                  Missing\n",
       "STATE_ID                                                                               9\n",
       "AADHAR_FLAG                                                                            1\n",
       "PAN_FLAG                                                                               1\n",
       "VOTERID_FLAG                                                                           0\n",
       "DRIVING_FLAG                                                                           0\n",
       "PASSPORT_FLAG                                                                          0\n",
       "PERFORM_CNS_SCORE                                                                     16\n",
       "PERFORM_CNS_SCORE_DESCRIPTION          Not Scored: No Activity seen on the customer (...\n",
       "PRI_NO_OF_ACCTS                                                                        1\n",
       "PRI_ACTIVE_ACCTS                                                                       0\n",
       "PRI_OVERDUE_ACCTS                                                                      1\n",
       "PRI_CURRENT_BALANCE                                                                    0\n",
       "PRI_SANCTIONED_AMOUNT                                                                  0\n",
       "PRI_DISBURSED_AMOUNT                                                                   0\n",
       "SEC_NO_OF_ACCTS                                                                        0\n",
       "SEC_ACTIVE_ACCTS                                                                       0\n",
       "SEC_OVERDUE_ACCTS                                                                      0\n",
       "SEC_CURRENT_BALANCE                                                                    0\n",
       "SEC_SANCTIONED_AMOUNT                                                                  0\n",
       "SEC_DISBURSED_AMOUNT                                                                   0\n",
       "PRIMARY_INSTAL_AMT                                                                  6224\n",
       "SEC_INSTAL_AMT                                                                         0\n",
       "NEW_ACCTS_IN_LAST_SIX_MONTHS                                                           0\n",
       "DELINQUENT_ACCTS_IN_LAST_SIX_MONTHS                                                    0\n",
       "AVERAGE_ACCT_AGE                                                              5yrs 10mon\n",
       "CREDIT_HISTORY_LENGTH                                                         5yrs 10mon\n",
       "NO_OF_INQUIRIES                                                                        0\n",
       "LOAN_DEFAULT                                                                           0\n",
       "AGE                                                                                   28\n",
       "DISBURSAL_MONTH                                                                        8\n",
       "CREDIT_HISTORY_LENGTH_MONTHS                                                          70\n",
       "AVERAGE_ACCT_AGE_MONTHS                                                               70\n",
       "Name: 440173, dtype: object"
      ]
     },
     "execution_count": 6,
     "metadata": {},
     "output_type": "execute_result"
    }
   ],
   "source": [
    "#using loc to return all the values on the row with the max disbursed amount to examine outliers observed\n",
    "loan_df.loc[loan_df.DISBURSED_AMOUNT.idxmax()]"
   ]
  },
  {
   "cell_type": "code",
   "execution_count": 7,
   "metadata": {},
   "outputs": [],
   "source": [
    "#the output shows a person might have indeed had to borrow 990,572 to pay a loan for an asset worth 1,628,992. \n",
    "#we however should bin the disbursed amounts without skewering our data. turning the continuous variables into categorical values to reduce the impact of large outliers\n",
    "\n",
    "#creating amount ranges and labels for disbursed amount\n",
    "amount_buckets = [13000, 30000, 45000, 60000, 75000, 150000, 1000000]\n",
    "amount_labels = ['13k - 30k', '30k-45k', '45k-60k', '60k-75k', '75k-150k', '150k-1m']"
   ]
  },
  {
   "cell_type": "code",
   "execution_count": 8,
   "metadata": {},
   "outputs": [],
   "source": [
    "#using cut to create/assign new buckets for disbursed amounts\n",
    "loan_df['DISBURSED_CAT'] = pd.cut(x=loan_df.DISBURSED_AMOUNT, bins=amount_buckets, labels=amount_labels)"
   ]
  },
  {
   "cell_type": "code",
   "execution_count": 9,
   "metadata": {},
   "outputs": [
    {
     "name": "stdout",
     "output_type": "stream",
     "text": [
      "UNIQUEID\n",
      "420825     45k-60k\n",
      "537409     45k-60k\n",
      "417566     45k-60k\n",
      "624493     45k-60k\n",
      "539055     45k-60k\n",
      "            ...   \n",
      "626432     60k-75k\n",
      "606141     60k-75k\n",
      "613658     30k-45k\n",
      "548084     30k-45k\n",
      "630213    75k-150k\n",
      "Name: DISBURSED_CAT, Length: 233154, dtype: category\n",
      "Categories (6, object): ['13k - 30k' < '30k-45k' < '45k-60k' < '60k-75k' < '75k-150k' < '150k-1m']\n"
     ]
    },
    {
     "data": {
      "image/png": "[encoded data removed]",
      "text/plain": [
       "<Figure size 432x288 with 1 Axes>"
      ]
     },
     "metadata": {
      "needs_background": "light"
     },
     "output_type": "display_data"
    }
   ],
   "source": [
    "#viewing new column with binned values\n",
    "print(loan_df.DISBURSED_CAT)\n",
    "sns.countplot(x=loan_df.DISBURSED_CAT, hue='LOAN_DEFAULT', data=loan_df);"
   ]
  },
  {
   "cell_type": "code",
   "execution_count": 10,
   "metadata": {},
   "outputs": [],
   "source": [
    "#with the certainty of the outlier disbursed amount value not being an error in our data, a disbursal difference column can be created.\n",
    "loan_df['DISBURSAL_DIFF'] = loan_df.ASSET_COST - loan_df.DISBURSED_AMOUNT "
   ]
  },
  {
   "cell_type": "code",
   "execution_count": 11,
   "metadata": {},
   "outputs": [
    {
     "data": {
      "text/html": [
       "<div>\n",
       "<style scoped>\n",
       "    .dataframe tbody tr th:only-of-type {\n",
       "        vertical-align: middle;\n",
       "    }\n",
       "\n",
       "    .dataframe tbody tr th {\n",
       "        vertical-align: top;\n",
       "    }\n",
       "\n",
       "    .dataframe thead th {\n",
       "        text-align: right;\n",
       "    }\n",
       "</style>\n",
       "<table border=\"1\" class=\"dataframe\">\n",
       "  <thead>\n",
       "    <tr style=\"text-align: right;\">\n",
       "      <th></th>\n",
       "      <th>DISBURSAL_DIFF</th>\n",
       "      <th>ASSET_COST</th>\n",
       "      <th>DISBURSED_AMOUNT</th>\n",
       "    </tr>\n",
       "    <tr>\n",
       "      <th>UNIQUEID</th>\n",
       "      <th></th>\n",
       "      <th></th>\n",
       "      <th></th>\n",
       "    </tr>\n",
       "  </thead>\n",
       "  <tbody>\n",
       "    <tr>\n",
       "      <th>451141</th>\n",
       "      <td>11430</td>\n",
       "      <td>60908</td>\n",
       "      <td>49478</td>\n",
       "    </tr>\n",
       "    <tr>\n",
       "      <th>589180</th>\n",
       "      <td>20877</td>\n",
       "      <td>93594</td>\n",
       "      <td>72717</td>\n",
       "    </tr>\n",
       "    <tr>\n",
       "      <th>638640</th>\n",
       "      <td>18954</td>\n",
       "      <td>76337</td>\n",
       "      <td>57383</td>\n",
       "    </tr>\n",
       "    <tr>\n",
       "      <th>603514</th>\n",
       "      <td>8065</td>\n",
       "      <td>65278</td>\n",
       "      <td>57213</td>\n",
       "    </tr>\n",
       "    <tr>\n",
       "      <th>634197</th>\n",
       "      <td>14156</td>\n",
       "      <td>72569</td>\n",
       "      <td>58413</td>\n",
       "    </tr>\n",
       "  </tbody>\n",
       "</table>\n",
       "</div>"
      ],
      "text/plain": [
       "          DISBURSAL_DIFF  ASSET_COST  DISBURSED_AMOUNT\n",
       "UNIQUEID                                              \n",
       "451141             11430       60908             49478\n",
       "589180             20877       93594             72717\n",
       "638640             18954       76337             57383\n",
       "603514              8065       65278             57213\n",
       "634197             14156       72569             58413"
      ]
     },
     "execution_count": 11,
     "metadata": {},
     "output_type": "execute_result"
    }
   ],
   "source": [
    "#viewing the new, asset cost and disbursed amount columns\n",
    "#maybe loans with low disbursal differences have a higher rate of default\n",
    "loan_df[['DISBURSAL_DIFF','ASSET_COST', 'DISBURSED_AMOUNT']].sample(5)"
   ]
  },
  {
   "cell_type": "code",
   "execution_count": 12,
   "metadata": {},
   "outputs": [],
   "source": [
    "#the vehicle loan data contains primary and secondary accounts that provide info about any exisiting loan a customer may have\n",
    "#primary account - a loan where the customer is the sole recipient of the loan\n",
    "#secondary account - a loan where the customer is a co-applicant or guarantor \n",
    "#combining the columns instead of dropping them should reduce any associated complexity they may add because they can contribute to detecting loan defaults"
   ]
  },
  {
   "cell_type": "code",
   "execution_count": 13,
   "metadata": {},
   "outputs": [],
   "source": [
    "#creating new columns to contain combined primary and secondary accounts values\n",
    "loan_df['TOTAL_ACCTS'] = loan_df.PRI_NO_OF_ACCTS + loan_df.SEC_NO_OF_ACCTS "
   ]
  },
  {
   "cell_type": "code",
   "execution_count": 14,
   "metadata": {},
   "outputs": [
    {
     "data": {
      "text/html": [
       "<div>\n",
       "<style scoped>\n",
       "    .dataframe tbody tr th:only-of-type {\n",
       "        vertical-align: middle;\n",
       "    }\n",
       "\n",
       "    .dataframe tbody tr th {\n",
       "        vertical-align: top;\n",
       "    }\n",
       "\n",
       "    .dataframe thead th {\n",
       "        text-align: right;\n",
       "    }\n",
       "</style>\n",
       "<table border=\"1\" class=\"dataframe\">\n",
       "  <thead>\n",
       "    <tr style=\"text-align: right;\">\n",
       "      <th></th>\n",
       "      <th>TOTAL_ACCTS</th>\n",
       "      <th>PRI_NO_OF_ACCTS</th>\n",
       "      <th>SEC_NO_OF_ACCTS</th>\n",
       "    </tr>\n",
       "    <tr>\n",
       "      <th>UNIQUEID</th>\n",
       "      <th></th>\n",
       "      <th></th>\n",
       "      <th></th>\n",
       "    </tr>\n",
       "  </thead>\n",
       "  <tbody>\n",
       "    <tr>\n",
       "      <th>564186</th>\n",
       "      <td>2</td>\n",
       "      <td>2</td>\n",
       "      <td>0</td>\n",
       "    </tr>\n",
       "    <tr>\n",
       "      <th>589387</th>\n",
       "      <td>2</td>\n",
       "      <td>1</td>\n",
       "      <td>1</td>\n",
       "    </tr>\n",
       "    <tr>\n",
       "      <th>543437</th>\n",
       "      <td>0</td>\n",
       "      <td>0</td>\n",
       "      <td>0</td>\n",
       "    </tr>\n",
       "    <tr>\n",
       "      <th>583828</th>\n",
       "      <td>1</td>\n",
       "      <td>1</td>\n",
       "      <td>0</td>\n",
       "    </tr>\n",
       "    <tr>\n",
       "      <th>587422</th>\n",
       "      <td>13</td>\n",
       "      <td>13</td>\n",
       "      <td>0</td>\n",
       "    </tr>\n",
       "    <tr>\n",
       "      <th>598670</th>\n",
       "      <td>0</td>\n",
       "      <td>0</td>\n",
       "      <td>0</td>\n",
       "    </tr>\n",
       "    <tr>\n",
       "      <th>529980</th>\n",
       "      <td>0</td>\n",
       "      <td>0</td>\n",
       "      <td>0</td>\n",
       "    </tr>\n",
       "    <tr>\n",
       "      <th>622321</th>\n",
       "      <td>4</td>\n",
       "      <td>4</td>\n",
       "      <td>0</td>\n",
       "    </tr>\n",
       "    <tr>\n",
       "      <th>504326</th>\n",
       "      <td>5</td>\n",
       "      <td>5</td>\n",
       "      <td>0</td>\n",
       "    </tr>\n",
       "    <tr>\n",
       "      <th>625856</th>\n",
       "      <td>0</td>\n",
       "      <td>0</td>\n",
       "      <td>0</td>\n",
       "    </tr>\n",
       "  </tbody>\n",
       "</table>\n",
       "</div>"
      ],
      "text/plain": [
       "          TOTAL_ACCTS  PRI_NO_OF_ACCTS  SEC_NO_OF_ACCTS\n",
       "UNIQUEID                                               \n",
       "564186              2                2                0\n",
       "589387              2                1                1\n",
       "543437              0                0                0\n",
       "583828              1                1                0\n",
       "587422             13               13                0\n",
       "598670              0                0                0\n",
       "529980              0                0                0\n",
       "622321              4                4                0\n",
       "504326              5                5                0\n",
       "625856              0                0                0"
      ]
     },
     "execution_count": 14,
     "metadata": {},
     "output_type": "execute_result"
    }
   ],
   "source": [
    "#viewing the new column\n",
    "loan_df[['TOTAL_ACCTS', 'PRI_NO_OF_ACCTS', 'SEC_NO_OF_ACCTS']].sample(10)"
   ]
  },
  {
   "cell_type": "code",
   "execution_count": 15,
   "metadata": {},
   "outputs": [],
   "source": [
    "#creating more combined columns using the same logic\n",
    "loan_df['TOTAL_ACTIVE_ACCTS'] = loan_df.PRI_ACTIVE_ACCTS + loan_df.SEC_ACTIVE_ACCTS\n",
    "loan_df['TOTAL_OVERDUE_ACCTS'] = loan_df.PRI_OVERDUE_ACCTS + loan_df.SEC_OVERDUE_ACCTS\n",
    "loan_df['TOTAL_CURRENT_BALANCE'] = loan_df.PRI_CURRENT_BALANCE + loan_df.SEC_CURRENT_BALANCE\n",
    "loan_df['TOTAL_SANCTIONED_AMOUNT'] = loan_df.PRI_SANCTIONED_AMOUNT + loan_df.SEC_SANCTIONED_AMOUNT\n",
    "loan_df['TOTAL_DISBURSED_AMOUNT'] = loan_df.PRI_DISBURSED_AMOUNT + loan_df.SEC_DISBURSED_AMOUNT\n",
    "loan_df['TOTAL_INSTAL_AMT'] = loan_df.PRIMARY_INSTAL_AMT + loan_df.SEC_INSTAL_AMT"
   ]
  },
  {
   "cell_type": "code",
   "execution_count": 16,
   "metadata": {},
   "outputs": [],
   "source": [
    "#dropping the previous individual primary and secondary accounts to avoid having duplicate data\n",
    "drop_cols = ['PRI_NO_OF_ACCTS', 'PRI_ACTIVE_ACCTS', 'PRI_OVERDUE_ACCTS', 'PRI_CURRENT_BALANCE', 'PRI_SANCTIONED_AMOUNT', 'PRI_DISBURSED_AMOUNT', 'PRIMARY_INSTAL_AMT', 'SEC_NO_OF_ACCTS', 'SEC_ACTIVE_ACCTS', 'SEC_OVERDUE_ACCTS', 'SEC_CURRENT_BALANCE', 'SEC_SANCTIONED_AMOUNT', 'SEC_DISBURSED_AMOUNT', 'SEC_INSTAL_AMT']\n",
    "\n",
    "loan_df = loan_df.drop(drop_cols, axis=1)"
   ]
  },
  {
   "cell_type": "code",
   "execution_count": 17,
   "metadata": {},
   "outputs": [],
   "source": [
    "#creating a new column to store the percentage of overduce acts (expressed as a percentage of the total loan accounts)\n",
    "loan_df['OVERDUE_PCT'] = loan_df.TOTAL_OVERDUE_ACCTS / loan_df.TOTAL_ACCTS"
   ]
  },
  {
   "cell_type": "code",
   "execution_count": 18,
   "metadata": {},
   "outputs": [
    {
     "data": {
      "text/plain": [
       "115792"
      ]
     },
     "execution_count": 18,
     "metadata": {},
     "output_type": "execute_result"
    }
   ],
   "source": [
    "#inspecting the overdue pct column since some primary and secondary accounts had missing values\n",
    "loan_df.OVERDUE_PCT.isnull().sum()"
   ]
  },
  {
   "cell_type": "code",
   "execution_count": 19,
   "metadata": {},
   "outputs": [],
   "source": [
    "#filling the null values with 0\n",
    "loan_df.OVERDUE_PCT = loan_df.OVERDUE_PCT.fillna(0)"
   ]
  },
  {
   "cell_type": "code",
   "execution_count": 20,
   "metadata": {},
   "outputs": [
    {
     "data": {
      "text/plain": [
       "0"
      ]
     },
     "execution_count": 20,
     "metadata": {},
     "output_type": "execute_result"
    }
   ],
   "source": [
    "#inspecting for missing values again\n",
    "loan_df.OVERDUE_PCT.isnull().sum()"
   ]
  },
  {
   "cell_type": "code",
   "execution_count": 21,
   "metadata": {},
   "outputs": [
    {
     "data": {
      "text/plain": [
       "Text(0.5, 1.0, 'prior to scaling')"
      ]
     },
     "execution_count": 21,
     "metadata": {},
     "output_type": "execute_result"
    },
    {
     "data": {
      "image/png": "[encoded data removed]",
      "text/plain": [
       "<Figure size 432x288 with 1 Axes>"
      ]
     },
     "metadata": {
      "needs_background": "light"
     },
     "output_type": "display_data"
    }
   ],
   "source": [
    "#viewing some continuous variable columns to inspect scale distribution\n",
    "loan_df[['LTV', 'ASSET_COST', 'AGE']].boxplot();\n",
    "plt.title('prior to scaling')"
   ]
  },
  {
   "cell_type": "code",
   "execution_count": 22,
   "metadata": {},
   "outputs": [],
   "source": [
    "#using minmax scaler to normalize the distribution since all the numeric values are distributed across very different scales (beyond 0-1)\n",
    "from sklearn.preprocessing import MinMaxScaler\n",
    "\n",
    "#creating a MinMaxScaler object\n",
    "mm_scaler = MinMaxScaler()"
   ]
  },
  {
   "cell_type": "code",
   "execution_count": 23,
   "metadata": {},
   "outputs": [],
   "source": [
    "#creating a list of all numeric colums\n",
    "numeric_cols = ['DISBURSED_AMOUNT', \n",
    "                'ASSET_COST', \n",
    "                'LTV', \n",
    "                'NEW_ACCTS_IN_LAST_SIX_MONTHS', \n",
    "                'DELINQUENT_ACCTS_IN_LAST_SIX_MONTHS', \n",
    "                'NO_OF_INQUIRIES', \n",
    "                'AGE', \n",
    "                'AVERAGE_ACCT_AGE_MONTHS', \n",
    "                'CREDIT_HISTORY_LENGTH_MONTHS',\n",
    "                'PERFORM_CNS_SCORE',\n",
    "                'TOTAL_ACCTS',\n",
    "                'TOTAL_ACTIVE_ACCTS',\n",
    "                'TOTAL_OVERDUE_ACCTS',\n",
    "                'TOTAL_CURRENT_BALANCE', \n",
    "                'TOTAL_SANCTIONED_AMOUNT', \n",
    "                'TOTAL_DISBURSED_AMOUNT', \n",
    "                'TOTAL_INSTAL_AMT', \n",
    "                'OVERDUE_PCT', \n",
    "                'DISBURSAL_DIFF']"
   ]
  },
  {
   "cell_type": "code",
   "execution_count": 24,
   "metadata": {},
   "outputs": [],
   "source": [
    "#calling the fit_transfrom method on the numeric cols to normalize the distribution\n",
    "loan_df[numeric_cols] = mm_scaler.fit_transform(loan_df[numeric_cols])"
   ]
  },
  {
   "cell_type": "code",
   "execution_count": 25,
   "metadata": {},
   "outputs": [
    {
     "data": {
      "text/plain": [
       "Text(0.5, 1.0, 'after scaling')"
      ]
     },
     "execution_count": 25,
     "metadata": {},
     "output_type": "execute_result"
    },
    {
     "data": {
      "image/png": "[encoded data removed]",
      "text/plain": [
       "<Figure size 432x288 with 1 Axes>"
      ]
     },
     "metadata": {
      "needs_background": "light"
     },
     "output_type": "display_data"
    }
   ],
   "source": [
    "#inspecting the previous columns after scaling\n",
    "loan_df[['LTV', 'ASSET_COST', 'AGE']].boxplot();\n",
    "plt.title('after scaling')"
   ]
  },
  {
   "cell_type": "code",
   "execution_count": 29,
   "metadata": {},
   "outputs": [],
   "source": [
    "loan_df.to_csv('C:\\\\Users\\\\Daniel-Panovest\\\\Downloads\\\\python ultra\\\\files\\\\data\\\\vehicle_loans_feat')"
   ]
  }
 ],
 "metadata": {
  "kernelspec": {
   "display_name": "base",
   "language": "python",
   "name": "python3"
  },
  "language_info": {
   "codemirror_mode": {
    "name": "ipython",
    "version": 3
   },
   "file_extension": ".py",
   "mimetype": "text/x-python",
   "name": "python",
   "nbconvert_exporter": "python",
   "pygments_lexer": "ipython3",
   "version": "3.9.12"
  },
  "orig_nbformat": 4
 },
 "nbformat": 4,
 "nbformat_minor": 2
}
