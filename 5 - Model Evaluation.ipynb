{
 "cells": [
  {
   "cell_type": "code",
   "execution_count": 1,
   "metadata": {},
   "outputs": [],
   "source": [
    "#importing libraries\n",
    "import numpy as np\n",
    "import pandas as pd\n",
    "import matplotlib.pyplot as plt\n",
    "import seaborn as sns\n",
    "from sklearn.linear_model import LogisticRegression\n",
    "from sklearn.model_selection import train_test_split\n",
    "from sklearn.metrics import confusion_matrix, precision_score, recall_score, f1_score, roc_curve, auc"
   ]
  },
  {
   "cell_type": "code",
   "execution_count": 2,
   "metadata": {},
   "outputs": [],
   "source": [
    "loan_df = pd.read_csv('C:\\\\Users\\\\Daniel-Panovest\\\\Downloads\\\\python ultra\\\\files\\data\\\\vehicle_loans_feat.csv', index_col='UNIQUEID')"
   ]
  },
  {
   "cell_type": "code",
   "execution_count": 3,
   "metadata": {},
   "outputs": [
    {
     "data": {
      "text/plain": [
       "LogisticRegression(max_iter=200)"
      ]
     },
     "execution_count": 3,
     "metadata": {},
     "output_type": "execute_result"
    }
   ],
   "source": [
    "#repeating previous binary classifier processess for evaluation \n",
    "cat_cols = ['MANUFACTURER_ID', 'STATE_ID', 'DISBURSAL_MONTH', 'DISBURSED_CAT', 'PERFORM_CNS_SCORE_DESCRIPTION', 'EMPLOYMENT_TYPE']\n",
    "loan_df[cat_cols] = loan_df[cat_cols].astype('category')\n",
    "\n",
    "#drop first drops the first dummy column for each unique value (under a column). making where it is a true indicator identifiable through other columns\n",
    "cols = ['STATE_ID', 'LTV', 'DISBURSED_CAT', 'PERFORM_CNS_SCORE', 'DISBURSAL_MONTH', 'LOAN_DEFAULT']\n",
    "loan_df_subset = pd.get_dummies(loan_df[cols], prefix_sep='_', drop_first=True)\n",
    "\n",
    "x = loan_df_subset.drop(['LOAN_DEFAULT'], axis=1)\n",
    "y = loan_df_subset['LOAN_DEFAULT']\n",
    "\n",
    "x_train, x_test, y_train, y_test = train_test_split(x, y, test_size=0.2, random_state=42)\n",
    "log_res = LogisticRegression(max_iter=200)\n",
    "log_res.fit(x_train, y_train)"
   ]
  },
  {
   "cell_type": "code",
   "execution_count": 4,
   "metadata": {},
   "outputs": [
    {
     "name": "stdout",
     "output_type": "stream",
     "text": [
      "[0 0 0 ... 0 0 0]\n",
      "\n",
      "\n",
      "the model has an accuracy score of 78.229075%\n"
     ]
    }
   ],
   "source": [
    "#using trained model to predit target classes and calculating accuracy\n",
    "print(log_res.predict(x_test))\n",
    "print('\\n')\n",
    "print(f'the model has an accuracy score of {log_res.score(x_test, y_test):0%}')"
   ]
  },
  {
   "cell_type": "code",
   "execution_count": 5,
   "metadata": {},
   "outputs": [
    {
     "data": {
      "text/plain": [
       "array([[36476,     1],\n",
       "       [10151,     3]], dtype=int64)"
      ]
     },
     "execution_count": 5,
     "metadata": {},
     "output_type": "execute_result"
    }
   ],
   "source": [
    "#using other model eval metrics, knowing accuracy isn't a reliable source of model accuracy\n",
    "predictions = log_res.predict(x_test)\n",
    "\n",
    "#y_test was unseen by the tranined binary classifier model and helps derive an unbiased estimate of our predictions real-world performance\n",
    "conf_mat = confusion_matrix(y_test, predictions)\n",
    "conf_mat"
   ]
  },
  {
   "cell_type": "code",
   "execution_count": 6,
   "metadata": {},
   "outputs": [
    {
     "name": "stdout",
     "output_type": "stream",
     "text": [
      "true negatives (correct non-defaults): 36476\n",
      "false positives (incorrect defaults): 1\n",
      "false negatives (incorrect non-defaults): 10151\n",
      "true positives (correct defaults): 3\n"
     ]
    },
    {
     "data": {
      "image/png": "[encoded data removed]",
      "text/plain": [
       "<Figure size 432x288 with 2 Axes>"
      ]
     },
     "metadata": {
      "needs_background": "light"
     },
     "output_type": "display_data"
    }
   ],
   "source": [
    "#extracting confusion matrix result using row and col index\n",
    "tn = conf_mat[0][0]\n",
    "fp = conf_mat[0][1]\n",
    "fn = conf_mat[1][0]\n",
    "tp = conf_mat[1][1]\n",
    "\n",
    "print(f'true negatives (correct non-defaults): {tn}')\n",
    "print(f'false positives (incorrect defaults): {fp}')\n",
    "print(f'false negatives (incorrect non-defaults): {fn}')\n",
    "print(f'true positives (correct defaults): {tp}')\n",
    "\n",
    "group_names = ['true neg', 'false pos', 'false neg', 'true pos']\n",
    "\n",
    "#list comprehension to round total values to a whole number\n",
    "#flatten allows elements in nested data structures (i.e list of lists/tuple of tuples) to be accessed in a single variable/sequentially without regard to its structure\n",
    "group_counts = [f'{value:.0f}' for value in conf_mat.flatten()] \n",
    "\n",
    "#list comprehension to round group percentage to two decimal places\n",
    "group_perct = [f'{value:.2%}' for value in conf_mat.flatten()/np.sum(conf_mat)]\n",
    "\n",
    "labels = [f'{n}\\n{c}\\n{p}' for n, c, p in zip(group_names, group_counts, group_perct)]\n",
    "labels = np.asarray(labels).reshape(2,2)\n",
    "\n",
    "sns.heatmap(conf_mat, annot=labels, fmt='', xticklabels=['False','True'], yticklabels=['False','True'], cmap='Blues')\n",
    "plt.title('binary classifier confusion matrix')\n",
    "plt.xlabel('predicted values')\n",
    "plt.ylabel('actual values')\n",
    "plt.show()"
   ]
  },
  {
   "cell_type": "code",
   "execution_count": 7,
   "metadata": {},
   "outputs": [
    {
     "data": {
      "text/plain": [
       "'going by the purpose of this model, which is to predict loan defaults, \\nthis model has failed by predicting 78% of non-defaults instead; \\nexpectedly because 78% of the loans in the dataset were non-defaults. \\nthis forms a good example of where using accuracy for model valuation can be misleading'"
      ]
     },
     "execution_count": 7,
     "metadata": {},
     "output_type": "execute_result"
    }
   ],
   "source": [
    "\"\"\"going by the purpose of this model, which is to predict loan defaults, \n",
    "this model has failed by predicting 78% of non-defaults instead; \n",
    "expectedly because 78% of the loans in the dataset were non-defaults. \n",
    "this forms a good example of where using accuracy for model valuation can be misleading\"\"\""
   ]
  },
  {
   "cell_type": "code",
   "execution_count": 8,
   "metadata": {},
   "outputs": [
    {
     "name": "stdout",
     "output_type": "stream",
     "text": [
      "75% of the predictions were actually positive\n"
     ]
    }
   ],
   "source": [
    "\"\"\"using other model evaluation methods from the sklearn.metrics sub-module\n",
    "\n",
    "precision returns a ratio of correctly predicted positives (tp) by total predicted positives (tp + fp)\"\"\"\n",
    "precision = precision_score(y_test, predictions)\n",
    "\n",
    "print(f'{precision:.0%} of the predictions were actually positive')"
   ]
  },
  {
   "cell_type": "code",
   "execution_count": 9,
   "metadata": {},
   "outputs": [
    {
     "name": "stdout",
     "output_type": "stream",
     "text": [
      "0.03% of the actually positive predictions were correctly identified\n"
     ]
    }
   ],
   "source": [
    "recall = recall_score(y_test, predictions)\n",
    "\n",
    "\"\"\"recall returns a ratio of correctly predicted positives (tp) by total actual positives (tp + fn)\"\"\"\n",
    "\n",
    "print(f'{recall:.2%} of the actually positive predictions were correctly identified')"
   ]
  },
  {
   "cell_type": "code",
   "execution_count": 10,
   "metadata": {},
   "outputs": [
    {
     "name": "stdout",
     "output_type": "stream",
     "text": [
      "the model has a f1 score of 0.0591%\n"
     ]
    }
   ],
   "source": [
    "#f1_score is useful when a balance of precision and recall is required\n",
    "f1 = f1_score(y_test, predictions)\n",
    "\n",
    "print(f'the model has a f1 score of {f1:.4%}')\n",
    "#the f1 score convincingly proves our model is unreliable despite having a high accuracy"
   ]
  },
  {
   "cell_type": "code",
   "execution_count": 11,
   "metadata": {},
   "outputs": [
    {
     "data": {
      "text/html": [
       "<div>\n",
       "<style scoped>\n",
       "    .dataframe tbody tr th:only-of-type {\n",
       "        vertical-align: middle;\n",
       "    }\n",
       "\n",
       "    .dataframe tbody tr th {\n",
       "        vertical-align: top;\n",
       "    }\n",
       "\n",
       "    .dataframe thead th {\n",
       "        text-align: right;\n",
       "    }\n",
       "</style>\n",
       "<table border=\"1\" class=\"dataframe\">\n",
       "  <thead>\n",
       "    <tr style=\"text-align: right;\">\n",
       "      <th></th>\n",
       "      <th>prob_0</th>\n",
       "      <th>prob_1</th>\n",
       "    </tr>\n",
       "  </thead>\n",
       "  <tbody>\n",
       "    <tr>\n",
       "      <th>count</th>\n",
       "      <td>46631.000000</td>\n",
       "      <td>46631.000000</td>\n",
       "    </tr>\n",
       "    <tr>\n",
       "      <th>mean</th>\n",
       "      <td>0.783702</td>\n",
       "      <td>0.216298</td>\n",
       "    </tr>\n",
       "    <tr>\n",
       "      <th>std</th>\n",
       "      <td>0.067744</td>\n",
       "      <td>0.067744</td>\n",
       "    </tr>\n",
       "    <tr>\n",
       "      <th>min</th>\n",
       "      <td>0.480079</td>\n",
       "      <td>0.035123</td>\n",
       "    </tr>\n",
       "    <tr>\n",
       "      <th>25%</th>\n",
       "      <td>0.740025</td>\n",
       "      <td>0.169147</td>\n",
       "    </tr>\n",
       "    <tr>\n",
       "      <th>50%</th>\n",
       "      <td>0.787264</td>\n",
       "      <td>0.212736</td>\n",
       "    </tr>\n",
       "    <tr>\n",
       "      <th>75%</th>\n",
       "      <td>0.830853</td>\n",
       "      <td>0.259975</td>\n",
       "    </tr>\n",
       "    <tr>\n",
       "      <th>max</th>\n",
       "      <td>0.964877</td>\n",
       "      <td>0.519921</td>\n",
       "    </tr>\n",
       "  </tbody>\n",
       "</table>\n",
       "</div>"
      ],
      "text/plain": [
       "             prob_0        prob_1\n",
       "count  46631.000000  46631.000000\n",
       "mean       0.783702      0.216298\n",
       "std        0.067744      0.067744\n",
       "min        0.480079      0.035123\n",
       "25%        0.740025      0.169147\n",
       "50%        0.787264      0.212736\n",
       "75%        0.830853      0.259975\n",
       "max        0.964877      0.519921"
      ]
     },
     "execution_count": 11,
     "metadata": {},
     "output_type": "execute_result"
    }
   ],
   "source": [
    "\"\"\"using roc (receiver operating characteristic) to derive an auc (area under curve) value\n",
    "a value close to 1.0 indictes a better overall performance. while 0.5 means the model suggests not more than a random performance\"\"\" \n",
    "\n",
    "#deriving target class prediciton probability\n",
    "pred_prob = log_res.predict_proba(x_test)\n",
    "\n",
    "#creating a dataframe for the target class prediction probability\n",
    "pred_df = pd.DataFrame()\n",
    "pred_df['prob_0'] = pred_prob[:, 0] #prediction probability for non-defaults\n",
    "pred_df['prob_1'] = pred_prob[:, 1] #prediction probability for defaults\n",
    "\n",
    "pred_df.describe()"
   ]
  },
  {
   "cell_type": "code",
   "execution_count": 14,
   "metadata": {},
   "outputs": [
    {
     "data": {
      "text/html": [
       "<div>\n",
       "<style scoped>\n",
       "    .dataframe tbody tr th:only-of-type {\n",
       "        vertical-align: middle;\n",
       "    }\n",
       "\n",
       "    .dataframe tbody tr th {\n",
       "        vertical-align: top;\n",
       "    }\n",
       "\n",
       "    .dataframe thead th {\n",
       "        text-align: right;\n",
       "    }\n",
       "</style>\n",
       "<table border=\"1\" class=\"dataframe\">\n",
       "  <thead>\n",
       "    <tr style=\"text-align: right;\">\n",
       "      <th></th>\n",
       "      <th>tpr</th>\n",
       "      <th>fpr</th>\n",
       "      <th>threshold</th>\n",
       "    </tr>\n",
       "  </thead>\n",
       "  <tbody>\n",
       "    <tr>\n",
       "      <th>count</th>\n",
       "      <td>16426.000000</td>\n",
       "      <td>16426.000000</td>\n",
       "      <td>16426.000000</td>\n",
       "    </tr>\n",
       "    <tr>\n",
       "      <th>mean</th>\n",
       "      <td>0.524187</td>\n",
       "      <td>0.413037</td>\n",
       "      <td>0.231038</td>\n",
       "    </tr>\n",
       "    <tr>\n",
       "      <th>std</th>\n",
       "      <td>0.287564</td>\n",
       "      <td>0.275450</td>\n",
       "      <td>0.067371</td>\n",
       "    </tr>\n",
       "    <tr>\n",
       "      <th>min</th>\n",
       "      <td>0.000000</td>\n",
       "      <td>0.000000</td>\n",
       "      <td>0.035123</td>\n",
       "    </tr>\n",
       "    <tr>\n",
       "      <th>25%</th>\n",
       "      <td>0.275458</td>\n",
       "      <td>0.175056</td>\n",
       "      <td>0.185731</td>\n",
       "    </tr>\n",
       "    <tr>\n",
       "      <th>50%</th>\n",
       "      <td>0.535946</td>\n",
       "      <td>0.381501</td>\n",
       "      <td>0.227529</td>\n",
       "    </tr>\n",
       "    <tr>\n",
       "      <th>75%</th>\n",
       "      <td>0.774719</td>\n",
       "      <td>0.629109</td>\n",
       "      <td>0.271869</td>\n",
       "    </tr>\n",
       "    <tr>\n",
       "      <th>max</th>\n",
       "      <td>1.000000</td>\n",
       "      <td>1.000000</td>\n",
       "      <td>1.519921</td>\n",
       "    </tr>\n",
       "  </tbody>\n",
       "</table>\n",
       "</div>"
      ],
      "text/plain": [
       "                tpr           fpr     threshold\n",
       "count  16426.000000  16426.000000  16426.000000\n",
       "mean       0.524187      0.413037      0.231038\n",
       "std        0.287564      0.275450      0.067371\n",
       "min        0.000000      0.000000      0.035123\n",
       "25%        0.275458      0.175056      0.185731\n",
       "50%        0.535946      0.381501      0.227529\n",
       "75%        0.774719      0.629109      0.271869\n",
       "max        1.000000      1.000000      1.519921"
      ]
     },
     "execution_count": 14,
     "metadata": {},
     "output_type": "execute_result"
    }
   ],
   "source": [
    "#the roc curve illustrates the trade-off between sensitivity (tpr) and specificity (fpr) in a classifier model\n",
    "\n",
    "fpr, tpr, threshold = roc_curve(y_test, pred_prob[:, 1], pos_label=1) #pos label is the target class positive label\n",
    "\n",
    "#creating a dataframe for readability\n",
    "roc_df = pd.DataFrame()\n",
    "roc_df['tpr'] = tpr\n",
    "roc_df['fpr'] = fpr\n",
    "roc_df['threshold'] = threshold\n",
    "\n",
    "roc_df.describe()\n",
    "#the new dataframe returns the tpr and fpr of our model while using different classification thresholds"
   ]
  },
  {
   "cell_type": "code",
   "execution_count": 23,
   "metadata": {},
   "outputs": [
    {
     "name": "stdout",
     "output_type": "stream",
     "text": [
      "the binary classifier model has an area under the curve value of 0.61\n"
     ]
    }
   ],
   "source": [
    "#derviing auc value to determine model performance\n",
    "roc_auc = auc(fpr, tpr)\n",
    "print(f'the binary classifier model has an area under the curve value of {roc_auc:.2f}')"
   ]
  },
  {
   "cell_type": "code",
   "execution_count": 38,
   "metadata": {},
   "outputs": [],
   "source": [
    "\"\"\"an auc value slightly above 0.5 indicates the peformance of the model is close to\n",
    "being random. meaning the model isn't effectively seperating the classes\"\"\"\n",
    "\n",
    "#plotting the roc curve to visualize the area under the curve\n",
    "\n",
    "def plot_roc_curve(fpr, tpr, roc_auc):\n",
    "    plt.title('reciever operating characteristic')\n",
    "    plt.plot(fpr, tpr, 'b', label='auc %0.2f' %roc_auc)\n",
    "    plt.legend(loc = 'upper left')\n",
    "    plt.plot([0, 1], [0, 1],'r--') #plots a diagonal red dashed line representing a threshold\n",
    "    plt.xlim([0, 1]) \n",
    "    plt.ylim([0, 1])\n",
    "    plt.xlabel('false positive rate')\n",
    "    plt.ylabel('true positive rate')\n",
    "    plt.show()\n"
   ]
  },
  {
   "cell_type": "code",
   "execution_count": 39,
   "metadata": {},
   "outputs": [
    {
     "data": {
      "image/png": "[encoded data removed]",
      "text/plain": [
       "<Figure size 432x288 with 1 Axes>"
      ]
     },
     "metadata": {
      "needs_background": "light"
     },
     "output_type": "display_data"
    }
   ],
   "source": [
    "plot_roc_curve(fpr, tpr, roc_auc)"
   ]
  },
  {
   "cell_type": "code",
   "execution_count": 59,
   "metadata": {},
   "outputs": [
    {
     "data": {
      "text/html": [
       "<div>\n",
       "<style scoped>\n",
       "    .dataframe tbody tr th:only-of-type {\n",
       "        vertical-align: middle;\n",
       "    }\n",
       "\n",
       "    .dataframe tbody tr th {\n",
       "        vertical-align: top;\n",
       "    }\n",
       "\n",
       "    .dataframe thead th {\n",
       "        text-align: right;\n",
       "    }\n",
       "</style>\n",
       "<table border=\"1\" class=\"dataframe\">\n",
       "  <thead>\n",
       "    <tr style=\"text-align: right;\">\n",
       "      <th>true_class</th>\n",
       "      <th>0</th>\n",
       "      <th>1</th>\n",
       "    </tr>\n",
       "    <tr>\n",
       "      <th>predicted_class</th>\n",
       "      <th></th>\n",
       "      <th></th>\n",
       "    </tr>\n",
       "  </thead>\n",
       "  <tbody>\n",
       "    <tr>\n",
       "      <th>0</th>\n",
       "      <td>36476</td>\n",
       "      <td>10151</td>\n",
       "    </tr>\n",
       "    <tr>\n",
       "      <th>1</th>\n",
       "      <td>1</td>\n",
       "      <td>3</td>\n",
       "    </tr>\n",
       "  </tbody>\n",
       "</table>\n",
       "</div>"
      ],
      "text/plain": [
       "true_class           0      1\n",
       "predicted_class              \n",
       "0                36476  10151\n",
       "1                    1      3"
      ]
     },
     "execution_count": 59,
     "metadata": {},
     "output_type": "execute_result"
    }
   ],
   "source": [
    "#advanced evaluation by inspecting target class splits and class probability distributions\n",
    "\n",
    "results_df = pd.DataFrame()\n",
    "results_df['true_class'] = y_test\n",
    "results_df['predicted_class'] = list(predictions)\n",
    "results_df['default_pred_prob'] = pred_prob[:, 1] #predicted probability of defualt (1) for the test set\n",
    "\n",
    "#target class split against classifier predictions\n",
    "results_df.groupby('true_class')['predicted_class'].value_counts().unstack(level=0)\n",
    "\n",
    "#visibly, nearly all of the test cases were predicted as non-defaults"
   ]
  },
  {
   "cell_type": "code",
   "execution_count": 50,
   "metadata": {},
   "outputs": [
    {
     "data": {
      "text/plain": [
       "UNIQUEID\n",
       "515702    0.179265\n",
       "466872    0.205635\n",
       "632384    0.279906\n",
       "461426    0.178021\n",
       "428779    0.190305\n",
       "            ...   \n",
       "507956    0.235077\n",
       "546737    0.149120\n",
       "636059    0.225354\n",
       "512161    0.097623\n",
       "626383    0.257858\n",
       "Name: default_pred_prob, Length: 36477, dtype: float64"
      ]
     },
     "execution_count": 50,
     "metadata": {},
     "output_type": "execute_result"
    }
   ],
   "source": [
    "#deriving the model's probability of default for instances that are already non-defaults according to the test labels\n",
    "def_pred_prob_false = results_df[results_df['true_class'] == 0]['default_pred_prob']\n",
    "def_pred_prob_false"
   ]
  },
  {
   "cell_type": "code",
   "execution_count": 60,
   "metadata": {},
   "outputs": [
    {
     "data": {
      "text/plain": [
       "UNIQUEID\n",
       "617183    0.284676\n",
       "487121    0.123381\n",
       "483207    0.328676\n",
       "605634    0.154921\n",
       "601565    0.269223\n",
       "            ...   \n",
       "603124    0.344984\n",
       "491964    0.408357\n",
       "609449    0.254512\n",
       "437017    0.291511\n",
       "503953    0.198931\n",
       "Name: default_pred_prob, Length: 10154, dtype: float64"
      ]
     },
     "execution_count": 60,
     "metadata": {},
     "output_type": "execute_result"
    }
   ],
   "source": [
    "#deriving the model's probability of default for instances that are already defaults according to the test labels\n",
    "def_pred_prob_true = results_df[results_df['true_class'] == 1]['default_pred_prob']\n",
    "def_pred_prob_true"
   ]
  },
  {
   "cell_type": "code",
   "execution_count": 67,
   "metadata": {},
   "outputs": [
    {
     "name": "stderr",
     "output_type": "stream",
     "text": [
      "c:\\Users\\Daniel-Panovest\\anaconda3\\lib\\site-packages\\seaborn\\distributions.py:2619: FutureWarning: `distplot` is a deprecated function and will be removed in a future version. Please adapt your code to use either `displot` (a figure-level function with similar flexibility) or `kdeplot` (an axes-level function for kernel density plots).\n",
      "  warnings.warn(msg, FutureWarning)\n",
      "c:\\Users\\Daniel-Panovest\\anaconda3\\lib\\site-packages\\seaborn\\distributions.py:2619: FutureWarning: `distplot` is a deprecated function and will be removed in a future version. Please adapt your code to use either `displot` (a figure-level function with similar flexibility) or `kdeplot` (an axes-level function for kernel density plots).\n",
      "  warnings.warn(msg, FutureWarning)\n"
     ]
    },
    {
     "data": {
      "image/png": "[encoded data removed]",
      "text/plain": [
       "<Figure size 432x288 with 1 Axes>"
      ]
     },
     "metadata": {
      "needs_background": "light"
     },
     "output_type": "display_data"
    }
   ],
   "source": [
    "#using displot to visualize the class prediciton probability distributions\n",
    "sns.distplot(def_pred_prob_false, label='non-default', hist=False)\n",
    "sns.distplot(def_pred_prob_true, label='default', hist=False)\n",
    "plt.legend(loc= 'best');"
   ]
  },
  {
   "cell_type": "code",
   "execution_count": null,
   "metadata": {},
   "outputs": [],
   "source": [
    "\"\"\"despite the apparent poor linear separability, the evaluation reveals the probability of a defaulted being predicted as a \n",
    "default is higher than a non-default being predicted as one\"\"\""
   ]
  }
 ],
 "metadata": {
  "kernelspec": {
   "display_name": "base",
   "language": "python",
   "name": "python3"
  },
  "language_info": {
   "codemirror_mode": {
    "name": "ipython",
    "version": 3
   },
   "file_extension": ".py",
   "mimetype": "text/x-python",
   "name": "python",
   "nbconvert_exporter": "python",
   "pygments_lexer": "ipython3",
   "version": "3.9.12"
  },
  "orig_nbformat": 4
 },
 "nbformat": 4,
 "nbformat_minor": 2
}
